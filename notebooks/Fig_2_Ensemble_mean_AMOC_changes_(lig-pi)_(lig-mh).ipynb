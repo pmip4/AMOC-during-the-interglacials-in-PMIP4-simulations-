{
 "cells": [
  {
   "cell_type": "code",
   "execution_count": 1,
   "metadata": {},
   "outputs": [],
   "source": [
    "import xarray as xr\n",
    "import matplotlib.pyplot as plt\n",
    "import numpy as np\n",
    "import pandas as pd\n",
    "\n",
    "import cartopy\n",
    "import cartopy.crs as ccrs\n",
    "import matplotlib\n",
    "%matplotlib inline\n",
    "from netCDF4 import Dataset\n",
    "\n",
    "\n",
    "import iris\n",
    "import iris.plot as iplt\n",
    "import iris.quickplot as qplt\n",
    "from iris.coords import DimCoord\n",
    "from iris.cube import Cube\n",
    "import matplotlib.colors as colors\n",
    "from sklearn import datasets\n",
    "import iris.analysis\n",
    "import numpy.ma as ma\n",
    "\n",
    "import matplotlib.ticker as mticker\n",
    "from matplotlib.ticker import MultipleLocator\n",
    "from cartopy.mpl.gridliner import LONGITUDE_FORMATTER, LATITUDE_FORMATTER\n",
    "from cartopy.util import add_cyclic_point\n",
    "\n",
    "\n",
    "import matplotlib.cm as mpl_cm\n",
    "from matplotlib.collections import LineCollection\n",
    "from matplotlib.colors import ListedColormap, BoundaryNorm\n",
    "from matplotlib.pyplot import xcorr\n",
    "\n",
    "\n",
    "from scipy.interpolate import splrep, splev\n",
    "from scipy.stats import pearsonr\n",
    "from scipy import signal \n",
    "\n",
    "import math\n",
    "from matplotlib import mlab\n",
    "\n",
    "import warnings\n",
    "warnings.filterwarnings(\"ignore\")"
   ]
  },
  {
   "cell_type": "markdown",
   "metadata": {},
   "source": [
    "# LIG AMOC mean (annual) \n",
    "\n",
    "models: ACCESS-ESM1-5, CESM2, EC-Earth3-LR, FGOALS-f3-L, \n",
    "        FGOALS-g3, GISS-E2-1-G, HadGEM-CG31-LL, IPSL-CM6A-LR, \n",
    "        NorESM2-LM\n",
    "\n"
   ]
  },
  {
   "cell_type": "markdown",
   "metadata": {},
   "source": [
    "### load the lig_HadGEM-CG31-LL AMOC data"
   ]
  },
  {
   "cell_type": "code",
   "execution_count": 4,
   "metadata": {
    "scrolled": true
   },
   "outputs": [],
   "source": [
    "filename_40='../../../Desktop/esgf_data_folder/streamfunction/lig_hadgem_combined.nc'\n",
    "hadgem_1=xr.open_dataset(filename_40,decode_times=False)\n",
    "#print(hadgem_1)"
   ]
  },
  {
   "cell_type": "code",
   "execution_count": 5,
   "metadata": {
    "scrolled": true
   },
   "outputs": [
    {
     "name": "stdout",
     "output_type": "stream",
     "text": [
      "<xarray.Dataset>\n",
      "Dimensions:    (bnds: 2, lev: 75, rlat: 330, time: 1200)\n",
      "Coordinates:\n",
      "  * time       (time) float64 3.602e+04 3.604e+04 ... 7.196e+04 7.198e+04\n",
      "    sector     |S21 ...\n",
      "  * lev        (lev) float64 0.0 1.024 2.103 ... 5.393e+03 5.596e+03 5.8e+03\n",
      "  * rlat       (rlat) float64 -85.35 -85.19 -85.04 -84.89 ... 81.73 81.77 81.79\n",
      "Dimensions without coordinates: bnds\n",
      "Data variables:\n",
      "    time_bnds  (time, bnds) float64 ...\n",
      "    lev_bnds   (lev, bnds) float64 ...\n",
      "    rlat_bnds  (rlat, bnds) float64 ...\n",
      "    msftyz     (time, lev, rlat) float32 ...\n",
      "Attributes:\n",
      "    Conventions:            CF-1.7 CMIP-6.2\n",
      "    activity_id:            CMIP\n",
      "    branch_method:          standard\n",
      "    branch_time_in_child:   0.0\n",
      "    branch_time_in_parent:  267840.0\n",
      "    cv_version:             6.2.20.1\n",
      "    data_specs_version:     01.00.29\n",
      "    forcing_index:          1\n",
      "    frequency:              mon\n",
      "    grid:                   Native eORCA1 tripolar primarily 1 deg with merid...\n",
      "    grid_label:             gn\n",
      "    history:                2019-08-14T18:41:13Z ; CMOR rewrote data to be co...\n",
      "    initialization_index:   1\n",
      "    institution:            Met Office Hadley Centre, Fitzroy Road, Exeter, D...\n",
      "    institution_id:         MOHC\n",
      "    mip_era:                CMIP6\n",
      "    nominal_resolution:     100 km\n",
      "    parent_activity_id:     CMIP\n",
      "    parent_experiment_id:   piControl-spinup\n",
      "    parent_mip_era:         CMIP6\n",
      "    parent_source_id:       HadGEM3-GC31-LL\n",
      "    parent_time_units:      days since 1850-01-01-00-00-00\n",
      "    parent_variant_label:   r1i1p1f1\n",
      "    physics_index:          1\n",
      "    product:                model-output\n",
      "    realization_index:      1\n",
      "    realm:                  ocean\n",
      "    source:                 HadGEM3-GC31-LL (2016): \\naerosol: UKCA-GLOMAP-mo...\n",
      "    source_id:              HadGEM3-GC31-LL\n",
      "    source_type:            AOGCM AER\n",
      "    sub_experiment:         none\n",
      "    sub_experiment_id:      none\n",
      "    table_id:               Omon\n",
      "    variable_id:            msftyz\n",
      "    variable_name:          msftyz\n",
      "    variant_label:          r1i1p1f1\n",
      "    license:                CMIP6 model data produced by the Met Office Hadle...\n",
      "    cmor_version:           3.4.0\n",
      "    experiment:             last interglacial (127k) \n",
      "    experiment_id:          lig127k\n",
      "    further_info_url:       https://furtherinfo.es-doc.org/CMIP6.MOHC.HadGEM3...\n",
      "    mo_runid:               ba-937\n",
      "    title:                  HadGEM3-GC31-LL output prepared for CMIP6 / PMIP4...\n"
     ]
    }
   ],
   "source": [
    "hadgem_2=hadgem_1.sel(basin=0)\n",
    "print(hadgem_2)"
   ]
  },
  {
   "cell_type": "code",
   "execution_count": 6,
   "metadata": {},
   "outputs": [
    {
     "name": "stdout",
     "output_type": "stream",
     "text": [
      "<xarray.Dataset>\n",
      "Dimensions:    (bnds: 2, lev: 75, rlat: 330)\n",
      "Coordinates:\n",
      "    sector     |S21 ...\n",
      "  * lev        (lev) float64 0.0 1.024 2.103 ... 5.393e+03 5.596e+03 5.8e+03\n",
      "  * rlat       (rlat) float64 -85.35 -85.19 -85.04 -84.89 ... 81.73 81.77 81.79\n",
      "Dimensions without coordinates: bnds\n",
      "Data variables:\n",
      "    time_bnds  (bnds) float64 5.398e+04 5.402e+04\n",
      "    lev_bnds   (lev, bnds) float64 -0.4942 0.5058 0.5058 ... 5.698e+03 5.902e+03\n",
      "    rlat_bnds  (rlat, bnds) float64 -85.42 -85.27 -85.27 ... 81.78 81.78 81.8\n",
      "    msftyz     (lev, rlat) float32 nan nan nan nan nan ... nan nan nan nan nan\n"
     ]
    }
   ],
   "source": [
    "hadgem=hadgem_2.mean(dim='time')\n",
    "print(hadgem)"
   ]
  },
  {
   "cell_type": "code",
   "execution_count": 7,
   "metadata": {},
   "outputs": [],
   "source": [
    "hadgem_amoc_data=hadgem.msftyz.values\n",
    "hadgem_lev_data=hadgem.lev.values\n",
    "hadgem_lat_data=hadgem.rlat.values"
   ]
  },
  {
   "cell_type": "code",
   "execution_count": 8,
   "metadata": {},
   "outputs": [],
   "source": [
    "depth = DimCoord(hadgem_lev_data, standard_name='depth', units='m')\n",
    "latitude = DimCoord(hadgem_lat_data, standard_name='latitude', units='degrees')\n",
    "\n",
    "cube_hadgem_amoc = Cube(hadgem_amoc_data,dim_coords_and_dims=[(depth, 0), (latitude, 1)])"
   ]
  },
  {
   "cell_type": "code",
   "execution_count": 9,
   "metadata": {},
   "outputs": [
    {
     "name": "stdout",
     "output_type": "stream",
     "text": [
      "unknown / (Sv)                      (depth: 75; latitude: 330)\n",
      "     Dimension coordinates:\n",
      "          depth                           x             -\n",
      "          latitude                        -             x\n"
     ]
    }
   ],
   "source": [
    "cube_hadgem_amoc.data *=1e-9\n",
    "cube_hadgem_amoc.units = 'Sv'\n",
    "print(cube_hadgem_amoc)"
   ]
  },
  {
   "cell_type": "markdown",
   "metadata": {},
   "source": [
    "## load the lig_FGOALS-g3 AMOC data"
   ]
  },
  {
   "cell_type": "code",
   "execution_count": 10,
   "metadata": {},
   "outputs": [],
   "source": [
    "filename_30='../../../Desktop/esgf_data_folder/streamfunction/lig_fgoalsg3_combined.nc'\n",
    "fgoalsg3_1=xr.open_dataset(filename_30,decode_times=False)"
   ]
  },
  {
   "cell_type": "code",
   "execution_count": 11,
   "metadata": {
    "scrolled": true
   },
   "outputs": [
    {
     "name": "stdout",
     "output_type": "stream",
     "text": [
      "<xarray.Dataset>\n",
      "Dimensions:    (bnds: 2, lat: 316, lev: 31, time: 6000)\n",
      "Coordinates:\n",
      "    sector     |S21 ...\n",
      "  * lev        (lev) float64 0.0 10.0 20.0 30.0 ... 4.19e+03 4.887e+03 5.6e+03\n",
      "  * lat        (lat) float64 -75.99 -75.75 -75.5 -75.24 ... 89.37 89.62 89.87\n",
      "  * time       (time) int64 0 708 1416 2148 ... 4377060 4377792 4378524 4379256\n",
      "Dimensions without coordinates: bnds\n",
      "Data variables:\n",
      "    time_bnds  (time, bnds) float64 ...\n",
      "    lev_bnds   (time, lev, bnds) float64 ...\n",
      "    lat_bnds   (time, lat, bnds) float64 ...\n",
      "    msftmz     (time, lev, lat) float32 ...\n",
      "Attributes:\n",
      "    Conventions:            CF-1.7 CMIP-6.2\n",
      "    activity_id:            PMIP\n",
      "    branch_method:          no parent\n",
      "    branch_time_in_child:   273385.0\n",
      "    branch_time_in_parent:  0.0\n",
      "    contact:                Lijuan Li(ljli@mail.iap.ac.cn)\n",
      "    creation_date:          2019-10-25T03:43:32Z\n",
      "    data_specs_version:     01.00.30\n",
      "    experiment:             last interglacial (127k)\n",
      "    experiment_id:          lig127k\n",
      "    forcing_index:          1\n",
      "    frequency:              mon\n",
      "    further_info_url:       https://furtherinfo.es-doc.org/CMIP6.CAS.FGOALS-g...\n",
      "    grid:                   gs1x1\n",
      "    grid_label:             gn\n",
      "    history:                2019-10-25T03:33:52Z ;rewrote data to be consiste...\n",
      "    initialization_index:   1\n",
      "    institution:            Chinese Academy of Sciences, Beijing 100029, China\n",
      "    institution_id:         CAS\n",
      "    mip_era:                CMIP6\n",
      "    nominal_resolution:     100 km\n",
      "    parent_activity_id:     no parent\n",
      "    parent_experiment_id:   no parent\n",
      "    parent_mip_era:         no parent\n",
      "    parent_source_id:       no parent\n",
      "    parent_time_units:      no parent\n",
      "    parent_variant_label:   no parent\n",
      "    physics_index:          1\n",
      "    product:                model-output\n",
      "    realization_index:      1\n",
      "    realm:                  ocean\n",
      "    run_variant:            forcing: black carbon aerosol only\n",
      "    source:                 FGOALS-g3 (2017): \\naerosol: none\\natmos: GAMIL2 ...\n",
      "    source_id:              FGOALS-g3\n",
      "    source_type:            AOGCM\n",
      "    sub_experiment:         none\n",
      "    sub_experiment_id:      none\n",
      "    table_id:               Omon\n",
      "    table_info:             Creation Date:(09 May 2019) MD5:cde930676e68ac678...\n",
      "    title:                  FGOALS-g3 output prepared for CMIP6\n",
      "    tracking_id:            hdl:21.14100/cdf43a00-3cee-41d7-a4af-ba90e64421da\n",
      "    variable_id:            msftmz\n",
      "    variant_label:          r1i1p1f1\n",
      "    license:                CMIP6 model data produced by LASG, Institute of A...\n",
      "    cmor_version:           3.4.0\n"
     ]
    }
   ],
   "source": [
    "fgoalsg3_2=fgoalsg3_1.sel(basin=0)\n",
    "print(fgoalsg3_2)"
   ]
  },
  {
   "cell_type": "code",
   "execution_count": 13,
   "metadata": {},
   "outputs": [
    {
     "name": "stdout",
     "output_type": "stream",
     "text": [
      "<xarray.Dataset>\n",
      "Dimensions:    (bnds: 2, lat: 316, lev: 31)\n",
      "Coordinates:\n",
      "    sector     |S21 ...\n",
      "  * lev        (lev) float64 0.0 10.0 20.0 30.0 ... 4.19e+03 4.887e+03 5.6e+03\n",
      "  * lat        (lat) float64 -75.99 -75.75 -75.5 -75.24 ... 89.37 89.62 89.87\n",
      "Dimensions without coordinates: bnds\n",
      "Data variables:\n",
      "    time_bnds  (bnds) float64 3.646e+05 3.646e+05\n",
      "    lev_bnds   (lev, bnds) float64 0.0 5.0 5.0 ... 5.244e+03 5.244e+03 5.6e+03\n",
      "    lat_bnds   (lat, bnds) float64 -89.95 -75.87 -75.87 ... 89.75 89.75 89.95\n",
      "    msftmz     (lev, lat) float32 nan 0.0 0.0 0.0 0.0 ... nan nan nan nan nan\n"
     ]
    }
   ],
   "source": [
    "fgoalsg3=fgoalsg3_2.mean(dim='time')\n",
    "print(fgoalsg3)"
   ]
  },
  {
   "cell_type": "code",
   "execution_count": 14,
   "metadata": {},
   "outputs": [],
   "source": [
    "fgoalsg3_amoc_data=fgoalsg3.msftmz.values\n",
    "fgoalsg3_lev_data=fgoalsg3.lev.values\n",
    "fgoalsg3_lat_data=fgoalsg3.lat.values"
   ]
  },
  {
   "cell_type": "code",
   "execution_count": 15,
   "metadata": {},
   "outputs": [],
   "source": [
    "depth = DimCoord(fgoalsg3_lev_data, standard_name='depth', units='m')\n",
    "latitude = DimCoord(fgoalsg3_lat_data, standard_name='latitude', units='degrees')\n",
    "\n",
    "cube_fgoalsg3_amoc = Cube(fgoalsg3_amoc_data,dim_coords_and_dims=[(depth, 0), (latitude, 1)])"
   ]
  },
  {
   "cell_type": "code",
   "execution_count": 16,
   "metadata": {},
   "outputs": [
    {
     "name": "stdout",
     "output_type": "stream",
     "text": [
      "unknown / (Sv)                      (depth: 31; latitude: 316)\n",
      "     Dimension coordinates:\n",
      "          depth                           x             -\n",
      "          latitude                        -             x\n"
     ]
    }
   ],
   "source": [
    "cube_fgoalsg3_amoc.data *=1e-9\n",
    "cube_fgoalsg3_amoc.units = 'Sv'\n",
    "print(cube_fgoalsg3_amoc)"
   ]
  },
  {
   "cell_type": "markdown",
   "metadata": {},
   "source": [
    "## load the lig_EC-Earth3-LR AMOC data"
   ]
  },
  {
   "cell_type": "code",
   "execution_count": 17,
   "metadata": {},
   "outputs": [],
   "source": [
    "filename_31='../../../Desktop/esgf_data_folder/streamfunction/lig_ec_earth_combined.nc'\n",
    "ec_1=xr.open_dataset(filename_31,decode_times=False)"
   ]
  },
  {
   "cell_type": "code",
   "execution_count": 18,
   "metadata": {
    "scrolled": true
   },
   "outputs": [
    {
     "name": "stdout",
     "output_type": "stream",
     "text": [
      "<xarray.Dataset>\n",
      "Dimensions:    (bnds: 2, lev: 75, rlat: 292, time: 2520)\n",
      "Coordinates:\n",
      "    sector     |S21 ...\n",
      "  * rlat       (rlat) float64 -78.01 -77.82 -77.62 -77.42 ... 89.15 89.37 89.59\n",
      "  * lev        (lev) float64 0.0 1.024 2.103 ... 5.393e+03 5.596e+03 5.8e+03\n",
      "  * time       (time) float64 1.425e+05 1.425e+05 ... 2.191e+05 2.191e+05\n",
      "Dimensions without coordinates: bnds\n",
      "Data variables:\n",
      "    time_bnds  (time, bnds) float64 ...\n",
      "    lev_bnds   (time, lev, bnds) float64 ...\n",
      "    rlat_bnds  (time, rlat, bnds) float64 ...\n",
      "    msftyz     (time, lev, rlat) float32 ...\n",
      "Attributes:\n",
      "    Conventions:                        CF-1.7 CMIP-6.2\n",
      "    activity_id:                        PMIP\n",
      "    branch_method:                      standard\n",
      "    branch_time_in_child:               0.0\n",
      "    branch_time_in_parent:              0.0\n",
      "    branch_time:                        0.0\n",
      "    contact:                            cmip6-data@ec-earth.org\n",
      "    creation_date:                      2019-12-24T23:24:54Z\n",
      "    data_specs_version:                 01.00.30\n",
      "    experiment:                         Impose Last Interglacial (127 kyr ago...\n",
      "    experiment_id:                      lig127k\n",
      "    forcing_index:                      1\n",
      "    frequency:                          mon\n",
      "    further_info_url:                   https://furtherinfo.es-doc.org/CMIP6....\n",
      "    grid_label:                         gn\n",
      "    initialization_index:               1\n",
      "    institution:                        AEMET, Spain; BSC, Spain; CNR-ISAC, I...\n",
      "    institution_id:                     EC-Earth-Consortium\n",
      "    mip_era:                            CMIP6\n",
      "    nominal_resolution:                 100 km\n",
      "    grid:                               ORCA1L75\n",
      "    parent_activity_id:                 no parent\n",
      "    parent_experiment_id:               no parent\n",
      "    parent_mip_era:                     CMIP6\n",
      "    parent_source_id:                   EC-Earth3-LR\n",
      "    parent_time_units:                  days since 1850-01-01\n",
      "    parent_variant_label:               r1i1p1f1\n",
      "    physics_index:                      1\n",
      "    product:                            model-output\n",
      "    realization_index:                  1\n",
      "    realm:                              ocean\n",
      "    source:                             EC-Earth3-LR (2019): \\naerosol: none\\...\n",
      "    source_id:                          EC-Earth3-LR\n",
      "    source_type:                        AOGCM\n",
      "    sub_experiment:                     none\n",
      "    sub_experiment_id:                  none\n",
      "    table_id:                           Omon\n",
      "    table_info:                         Creation Date:(09 May 2019) MD5:12745...\n",
      "    title:                              EC-Earth3-LR output prepared for CMIP6\n",
      "    variable_id:                        msftyz\n",
      "    variant_label:                      r1i1p1f1\n",
      "    license:                            CMIP6 model data produced by EC-Earth...\n",
      "    cmor_version:                       3.4.0\n",
      "    tracking_id:                        hdl:21.14100/211d01d4-0ec5-4e8e-a746-...\n",
      "    history:                            2019-12-24T23:19:32Z ; CMOR rewrote d...\n",
      "    latest_applied_cmor_fixer_version:  v3.0\n"
     ]
    }
   ],
   "source": [
    "ec_2=ec_1.sel(basin=1)\n",
    "print(ec_2)"
   ]
  },
  {
   "cell_type": "code",
   "execution_count": 19,
   "metadata": {},
   "outputs": [],
   "source": [
    "ec=ec_2.mean(dim='time')"
   ]
  },
  {
   "cell_type": "code",
   "execution_count": 20,
   "metadata": {},
   "outputs": [],
   "source": [
    "ec_amoc_data=ec.msftyz.values\n",
    "ec_lev_data=ec.lev.values\n",
    "ec_lat_data=ec.rlat.values"
   ]
  },
  {
   "cell_type": "code",
   "execution_count": 21,
   "metadata": {},
   "outputs": [],
   "source": [
    "depth = DimCoord(ec_lev_data, standard_name='depth', units='m')\n",
    "latitude = DimCoord(ec_lat_data, standard_name='latitude', units='degrees')\n",
    "\n",
    "cube_ec_amoc = Cube(ec_amoc_data,dim_coords_and_dims=[(depth, 0), (latitude, 1)])"
   ]
  },
  {
   "cell_type": "code",
   "execution_count": 22,
   "metadata": {},
   "outputs": [
    {
     "name": "stdout",
     "output_type": "stream",
     "text": [
      "unknown / (Sv)                      (depth: 75; latitude: 292)\n",
      "     Dimension coordinates:\n",
      "          depth                           x             -\n",
      "          latitude                        -             x\n"
     ]
    }
   ],
   "source": [
    "cube_ec_amoc.data *=1e-9\n",
    "cube_ec_amoc.units = 'Sv'\n",
    "print(cube_ec_amoc)"
   ]
  },
  {
   "cell_type": "markdown",
   "metadata": {},
   "source": [
    "## load the lig_ACCESS-ESM1-5 AMOC data"
   ]
  },
  {
   "cell_type": "code",
   "execution_count": 23,
   "metadata": {},
   "outputs": [],
   "source": [
    "filename_32='../../../Desktop/esgf_data_folder/streamfunction/lig_access_combined.nc'\n",
    "acc_1=xr.open_dataset(filename_32,decode_times=False)"
   ]
  },
  {
   "cell_type": "code",
   "execution_count": 24,
   "metadata": {
    "scrolled": true
   },
   "outputs": [
    {
     "name": "stdout",
     "output_type": "stream",
     "text": [
      "<xarray.Dataset>\n",
      "Dimensions:    (bnds: 2, lat: 300, lev: 50, time: 2400)\n",
      "Coordinates:\n",
      "    sector     |S21 ...\n",
      "  * lev        (lev) float64 5.0 15.0 25.0 ... 5.166e+03 5.499e+03 5.831e+03\n",
      "  * lat        (lat) float64 -77.75 -77.51 -77.26 -77.01 ... 89.1 89.55 90.0\n",
      "  * time       (time) float64 15.5 45.0 74.5 ... 7.297e+04 7.3e+04 7.303e+04\n",
      "Dimensions without coordinates: bnds\n",
      "Data variables:\n",
      "    time_bnds  (time, bnds) float64 ...\n",
      "    lev_bnds   (time, lev, bnds) float64 ...\n",
      "    lat_bnds   (time, lat, bnds) float64 ...\n",
      "    msftmz     (time, lev, lat) float32 ...\n",
      "Attributes:\n",
      "    Conventions:            CF-1.7 CMIP-6.2\n",
      "    activity_id:            PMIP\n",
      "    branch_method:          no parent\n",
      "    branch_time_in_child:   0.0\n",
      "    branch_time_in_parent:  0.0\n",
      "    creation_date:          2020-07-30T02:03:44Z\n",
      "    data_specs_version:     01.00.30\n",
      "    experiment:             last interglacial (127k)\n",
      "    experiment_id:          lig127k\n",
      "    forcing_index:          1\n",
      "    frequency:              mon\n",
      "    further_info_url:       https://furtherinfo.es-doc.org/CMIP6.CSIRO.ACCESS...\n",
      "    grid:                   native atmosphere N96 grid (145x192 latxlon)\n",
      "    grid_label:             gn\n",
      "    history:                2020-07-30T02:03:44Z ; CMOR rewrote data to be co...\n",
      "    initialization_index:   1\n",
      "    institution:            Commonwealth Scientific and Industrial Research O...\n",
      "    institution_id:         CSIRO\n",
      "    mip_era:                CMIP6\n",
      "    nominal_resolution:     250 km\n",
      "    notes:                  Exp: ESM-lig127k; Local ID: lig127k; Variable: ms...\n",
      "    parent_activity_id:     no parent\n",
      "    parent_experiment_id:   no parent\n",
      "    parent_mip_era:         no parent\n",
      "    parent_source_id:       no parent\n",
      "    parent_time_units:      no parent\n",
      "    parent_variant_label:   no parent\n",
      "    physics_index:          1\n",
      "    product:                model-output\n",
      "    realization_index:      1\n",
      "    realm:                  ocean\n",
      "    run_variant:            forcing: GHG, Oz, SA, Sl, Vl, BC, OC, (GHG = CO2,...\n",
      "    source:                 ACCESS-ESM1.5 (2019): \\naerosol: CLASSIC (v1.0)\\n...\n",
      "    source_id:              ACCESS-ESM1-5\n",
      "    source_type:            AOGCM\n",
      "    sub_experiment:         none\n",
      "    sub_experiment_id:      none\n",
      "    table_id:               Omon\n",
      "    table_info:             Creation Date:(30 April 2019) MD5:5bd755e94c2173c...\n",
      "    title:                  ACCESS-ESM1-5 output prepared for CMIP6\n",
      "    variable_id:            msftmz\n",
      "    variant_label:          r1i1p1f1\n",
      "    version:                v20200730\n",
      "    license:                CMIP6 model data produced by CSIRO is licensed un...\n",
      "    cmor_version:           3.4.0\n",
      "    tracking_id:            hdl:21.14100/ff350a10-113f-47df-bd80-3dd16b9b7bdf\n"
     ]
    }
   ],
   "source": [
    "acc_2=acc_1.sel(basin=0)\n",
    "print(acc_2)"
   ]
  },
  {
   "cell_type": "code",
   "execution_count": 25,
   "metadata": {},
   "outputs": [],
   "source": [
    "acc=acc_2.mean(dim='time')"
   ]
  },
  {
   "cell_type": "code",
   "execution_count": 26,
   "metadata": {},
   "outputs": [],
   "source": [
    "acc_amoc_data=acc.msftmz.values\n",
    "acc_lev_data=acc.lev.values\n",
    "acc_lat_data=acc.lat.values"
   ]
  },
  {
   "cell_type": "code",
   "execution_count": 27,
   "metadata": {},
   "outputs": [],
   "source": [
    "depth = DimCoord(acc_lev_data, standard_name='depth', units='m')\n",
    "latitude = DimCoord(acc_lat_data, standard_name='latitude', units='degrees')\n",
    "\n",
    "cube_acc_amoc = Cube(acc_amoc_data,dim_coords_and_dims=[(depth, 0), (latitude, 1)])"
   ]
  },
  {
   "cell_type": "code",
   "execution_count": 28,
   "metadata": {},
   "outputs": [
    {
     "name": "stdout",
     "output_type": "stream",
     "text": [
      "unknown / (Sv)                      (depth: 50; latitude: 300)\n",
      "     Dimension coordinates:\n",
      "          depth                           x             -\n",
      "          latitude                        -             x\n"
     ]
    }
   ],
   "source": [
    "cube_acc_amoc.data *=1e-9\n",
    "cube_acc_amoc.units = 'Sv'\n",
    "print(cube_acc_amoc)"
   ]
  },
  {
   "cell_type": "markdown",
   "metadata": {},
   "source": [
    "## load the lig_NorESM2-LM AMOC data"
   ]
  },
  {
   "cell_type": "code",
   "execution_count": 29,
   "metadata": {},
   "outputs": [],
   "source": [
    "filename_33='../../../Desktop/esgf_data_folder/streamfunction/lig_noresm2_combined.nc'\n",
    "noresm2_1=xr.open_dataset(filename_33,decode_times=False)"
   ]
  },
  {
   "cell_type": "code",
   "execution_count": 30,
   "metadata": {
    "scrolled": true
   },
   "outputs": [
    {
     "name": "stdout",
     "output_type": "stream",
     "text": [
      "<xarray.Dataset>\n",
      "Dimensions:    (bnds: 2, lat: 171, lev: 70, time: 1200)\n",
      "Coordinates:\n",
      "    sector     |S1107 ...\n",
      "  * lev        (lev) float64 0.0 5.0 10.0 15.0 ... 6.25e+03 6.5e+03 6.75e+03\n",
      "  * lat        (lat) float64 -80.0 -79.0 -78.0 -77.0 ... 87.0 88.0 89.0 90.0\n",
      "  * time       (time) float64 6.132e+05 6.132e+05 ... 6.497e+05 6.497e+05\n",
      "Dimensions without coordinates: bnds\n",
      "Data variables:\n",
      "    time_bnds  (time, bnds) float64 ...\n",
      "    lev_bnds   (time, lev, bnds) float64 ...\n",
      "    lat_bnds   (time, lat, bnds) float64 ...\n",
      "    msftmz     (time, lev, lat) float32 ...\n",
      "Attributes:\n",
      "    Conventions:               CF-1.7 CMIP-6.2\n",
      "    activity_id:               PMIP\n",
      "    branch_method:             no parent\n",
      "    branch_time:               0.0\n",
      "    branch_time_in_child:      0.0\n",
      "    branch_time_in_parent:     0.0\n",
      "    contact:                   Please send any requests or bug reports to nor...\n",
      "    creation_date:             2019-11-29T16:30:05Z\n",
      "    data_specs_version:        01.00.31\n",
      "    experiment:                last interglacial (127k)\n",
      "    experiment_id:             lig127k\n",
      "    forcing_index:             1\n",
      "    frequency:                 mon\n",
      "    further_info_url:          https://furtherinfo.es-doc.org/CMIP6.NCC.NorES...\n",
      "    grid:                      zonal mean or integral\n",
      "    grid_label:                grz\n",
      "    history:                   2019-11-29T16:30:05Z ; CMOR rewrote data to be...\n",
      "    initialization_index:      1\n",
      "    institution:               NorESM Climate modeling Consortium consisting ...\n",
      "    institution_id:            NCC\n",
      "    mip_era:                   CMIP6\n",
      "    model_id:                  NorESM2-LM\n",
      "    nominal_resolution:        100 km\n",
      "    parent_activity_id:        no parent\n",
      "    parent_experiment_id:      no parent\n",
      "    parent_mip_era:            no parent\n",
      "    parent_source_id:          no parent\n",
      "    parent_sub_experiment_id:  none\n",
      "    parent_time_units:         no parent\n",
      "    parent_variant_label:      no parent\n",
      "    physics_index:             1\n",
      "    product:                   model-output\n",
      "    realization_index:         1\n",
      "    realm:                     ocean\n",
      "    run_variant:               N/A\n",
      "    source:                    NorESM2-LM (2017): \\naerosol: OsloAero\\natmos:...\n",
      "    source_id:                 NorESM2-LM\n",
      "    source_type:               AOGCM BGC\n",
      "    sub_experiment:            none\n",
      "    sub_experiment_id:         none\n",
      "    table_id:                  Omon\n",
      "    table_info:                Creation Date:(24 July 2019) MD5:0bb394a356ef9...\n",
      "    title:                     NorESM2-LM output prepared for CMIP6\n",
      "    variable_id:               msftmz\n",
      "    variant_label:             r1i1p1f1\n",
      "    license:                   CMIP6 model data produced by NCC is licensed u...\n",
      "    cmor_version:              3.5.0\n",
      "    tracking_id:               hdl:21.14100/8b769ced-2be6-49f8-b3be-53e4c1564864\n"
     ]
    }
   ],
   "source": [
    "noresm2_2=noresm2_1.sel(basin=0)\n",
    "print(noresm2_2)"
   ]
  },
  {
   "cell_type": "code",
   "execution_count": 31,
   "metadata": {},
   "outputs": [],
   "source": [
    "noresm2=noresm2_2.mean(dim='time')"
   ]
  },
  {
   "cell_type": "code",
   "execution_count": 32,
   "metadata": {},
   "outputs": [],
   "source": [
    "noresm2_amoc_data=noresm2.msftmz.values\n",
    "noresm2_lev_data=noresm2.lev.values\n",
    "noresm2_lat_data=noresm2.lat.values"
   ]
  },
  {
   "cell_type": "code",
   "execution_count": 33,
   "metadata": {},
   "outputs": [],
   "source": [
    "depth = DimCoord(noresm2_lev_data, standard_name='depth', units='m')\n",
    "latitude = DimCoord(noresm2_lat_data, standard_name='latitude', units='degrees')\n",
    "\n",
    "cube_noresm2_amoc = Cube(noresm2_amoc_data,dim_coords_and_dims=[(depth, 0), (latitude, 1)])"
   ]
  },
  {
   "cell_type": "code",
   "execution_count": 34,
   "metadata": {},
   "outputs": [
    {
     "name": "stdout",
     "output_type": "stream",
     "text": [
      "unknown / (Sv)                      (depth: 70; latitude: 171)\n",
      "     Dimension coordinates:\n",
      "          depth                           x             -\n",
      "          latitude                        -             x\n"
     ]
    }
   ],
   "source": [
    "cube_noresm2_amoc.data *=1e-9\n",
    "cube_noresm2_amoc.units = 'Sv'\n",
    "print(cube_noresm2_amoc)"
   ]
  },
  {
   "cell_type": "markdown",
   "metadata": {},
   "source": [
    "## load other models' amoc_mean_ann'"
   ]
  },
  {
   "cell_type": "code",
   "execution_count": 35,
   "metadata": {},
   "outputs": [],
   "source": [
    "cube_fgoalsf3_amoc = iris.load_cube('FGOALS-f3-L_lig127k.cvdp_data.700-1199.nc', 'amoc_mean_ann')\n",
    "\n",
    "cube_giss_amoc = iris.load_cube('GISS-E2-1-G_lig127k.cvdp_data.2900-2999.nc', 'amoc_mean_ann')\n",
    "\n",
    "cube_ipsl_amoc = iris.load_cube('IPSL-CM6A-LR_lig127k.cvdp_data.1850-2399.nc', 'amoc_mean_ann') #'Vertical W levels'\n"
   ]
  },
  {
   "cell_type": "markdown",
   "metadata": {},
   "source": [
    "## extract amoc_mean_ann data from CESM mannually, and then create a new cube "
   ]
  },
  {
   "cell_type": "code",
   "execution_count": 36,
   "metadata": {},
   "outputs": [],
   "source": [
    "filename_3='CESM2_lig127k.cvdp_data.1-700.nc'\n",
    "cesm=xr.open_dataset(filename_3,decode_times=False)"
   ]
  },
  {
   "cell_type": "code",
   "execution_count": 37,
   "metadata": {},
   "outputs": [],
   "source": [
    "cesm_amoc_data=cesm.amoc_mean_ann.values\n",
    "cesm_lev_data=cesm.lev.values\n",
    "cesm_lat_data=cesm.lat_amoc.values"
   ]
  },
  {
   "cell_type": "code",
   "execution_count": 38,
   "metadata": {},
   "outputs": [],
   "source": [
    "depth = DimCoord(cesm_lev_data, standard_name='depth', units='m')\n",
    "latitude = DimCoord(cesm_lat_data, standard_name='latitude', units='degrees')\n",
    "\n",
    "cube_cesm_amoc = Cube(cesm_amoc_data,dim_coords_and_dims=[(depth, 0), (latitude, 1)])"
   ]
  },
  {
   "cell_type": "code",
   "execution_count": 41,
   "metadata": {},
   "outputs": [
    {
     "name": "stdout",
     "output_type": "stream",
     "text": [
      "unknown / (unknown)                 (depth: 61; latitude: 395)\n",
      "     Dimension coordinates:\n",
      "          depth                           x             -\n",
      "          latitude                        -             x\n"
     ]
    }
   ],
   "source": [
    "print(cube_cesm_amoc)"
   ]
  },
  {
   "cell_type": "markdown",
   "metadata": {},
   "source": [
    "## most lig_models have coord: depth & latitude, except for IPSL"
   ]
  },
  {
   "cell_type": "code",
   "execution_count": 39,
   "metadata": {},
   "outputs": [
    {
     "name": "stdout",
     "output_type": "stream",
     "text": [
      "ocean_y_overturning_mass_streamfunction / (Sv) (Vertical W levels: 75; latitude: 331)\n",
      "     Dimension coordinates:\n",
      "          Vertical W levels                                      x             -\n",
      "          latitude                                               -             x\n",
      "     Attributes:\n",
      "          3basin: 2.0\n",
      "          Conventions: CF-1.6\n",
      "          NCO: 4.4.4\n",
      "          description: Overturning mass streamfunction arising from all advective mass transport...\n",
      "          history: none\n",
      "          interval_operation: 2700 s\n",
      "          interval_write: 1 month\n",
      "          notes: Data from IPSL-CM6A-LR_lig127k from 1850-2399\n",
      "          online_operation: average\n",
      "          source: NCAR Climate Analysis Section's Climate Variability Diagnostics Package...\n"
     ]
    }
   ],
   "source": [
    "print(cube_ipsl_amoc)"
   ]
  },
  {
   "cell_type": "code",
   "execution_count": 40,
   "metadata": {},
   "outputs": [],
   "source": [
    "sample_points_1 = [('depth', np.linspace(0,6000,61)),\n",
    "                   ('latitude',  np.linspace(-89.5,89.5,180))]"
   ]
  },
  {
   "cell_type": "code",
   "execution_count": 41,
   "metadata": {},
   "outputs": [],
   "source": [
    "amoc_cube=[cube_acc_amoc, cube_cesm_amoc, cube_ec_amoc, cube_fgoalsf3_amoc, \n",
    "           cube_fgoalsg3_amoc, cube_giss_amoc, cube_hadgem_amoc, cube_ipsl_amoc,\n",
    "           cube_noresm2_amoc]"
   ]
  },
  {
   "cell_type": "code",
   "execution_count": 42,
   "metadata": {},
   "outputs": [],
   "source": [
    "lig_modelname=['acc','cesm','ec','fgoalsf3',\n",
    "               'fgoalsg3','giss','hadgem',\n",
    "               'ipsl','noresm2']"
   ]
  },
  {
   "cell_type": "code",
   "execution_count": 43,
   "metadata": {},
   "outputs": [],
   "source": [
    "for n in (0,1,2,3,4,5,6,8): #except for ipsl\n",
    "    globals()[lig_modelname[n]+'_amoc_regrid'] = amoc_cube[n].interpolate(sample_points_1, iris.analysis.Linear())\n"
   ]
  },
  {
   "cell_type": "code",
   "execution_count": 45,
   "metadata": {},
   "outputs": [],
   "source": [
    "sample_points_3 = [('Vertical W levels', np.linspace(0,6000,61)),\n",
    "                   ('latitude',  np.linspace(-89.5,89.5,180))]"
   ]
  },
  {
   "cell_type": "code",
   "execution_count": 46,
   "metadata": {},
   "outputs": [],
   "source": [
    "for n in range (7,8):\n",
    "    globals()[lig_modelname[n]+'_amoc_regrid'] = amoc_cube[n].interpolate(sample_points_3, iris.analysis.Linear())\n"
   ]
  },
  {
   "cell_type": "code",
   "execution_count": 47,
   "metadata": {},
   "outputs": [],
   "source": [
    "# as cubes have different coord names, so do the calculation with data only first\n",
    "lig_amoc_model_total= acc_amoc_regrid[:,89:181].data + cesm_amoc_regrid[:,89:181].data + ec_amoc_regrid[:,89:181].data + fgoalsf3_amoc_regrid[:,89:181].data + fgoalsg3_amoc_regrid[:,89:181].data + giss_amoc_regrid[:,89:181].data + hadgem_amoc_regrid[:,89:181].data + ipsl_amoc_regrid[:,89:181].data + noresm2_amoc_regrid[:,89:181].data "
   ]
  },
  {
   "cell_type": "code",
   "execution_count": 49,
   "metadata": {},
   "outputs": [],
   "source": [
    "lig_amoc_model_ave=lig_amoc_model_total / 9"
   ]
  },
  {
   "cell_type": "code",
   "execution_count": 50,
   "metadata": {},
   "outputs": [],
   "source": [
    "# then, copy a sample cube to use its coords, but repalce its data with the newly-calculated ones  \n",
    "lig_amoc_model_ave_1 = giss_amoc_regrid[:,89:181].copy(data=lig_amoc_model_ave)"
   ]
  },
  {
   "cell_type": "markdown",
   "metadata": {},
   "source": [
    "# PI_AMOC mean (annual) -- model-averages "
   ]
  },
  {
   "cell_type": "markdown",
   "metadata": {},
   "source": [
    "## load pi data"
   ]
  },
  {
   "cell_type": "code",
   "execution_count": 51,
   "metadata": {},
   "outputs": [],
   "source": [
    "filename_34='../../../Desktop/esgf_data_folder/streamfunction/pi_fgoalsg3_combined.nc'\n",
    "pi_fgoalsg3_1=xr.open_dataset(filename_34,decode_times=False)"
   ]
  },
  {
   "cell_type": "code",
   "execution_count": 52,
   "metadata": {
    "scrolled": true
   },
   "outputs": [
    {
     "name": "stdout",
     "output_type": "stream",
     "text": [
      "<xarray.Dataset>\n",
      "Dimensions:    (bnds: 2, lat: 316, lev: 31, time: 8388)\n",
      "Coordinates:\n",
      "    sector     |S21 ...\n",
      "  * lev        (lev) float64 0.0 10.0 20.0 30.0 ... 4.19e+03 4.887e+03 5.6e+03\n",
      "  * lat        (lat) float64 -75.99 -75.75 -75.5 -75.24 ... 89.37 89.62 89.87\n",
      "  * time       (time) float64 15.54 45.0 74.5 ... 2.551e+05 2.551e+05 2.551e+05\n",
      "Dimensions without coordinates: bnds\n",
      "Data variables:\n",
      "    time_bnds  (time, bnds) float64 ...\n",
      "    lev_bnds   (time, lev, bnds) float64 ...\n",
      "    lat_bnds   (time, lat, bnds) float64 ...\n",
      "    msftmz     (time, lev, lat) float32 ...\n",
      "Attributes:\n",
      "    Conventions:            CF-1.7 CMIP-6.2\n",
      "    activity_id:            CMIP\n",
      "    branch_method:          Spin-up documentation\n",
      "    branch_time_in_child:   0.0\n",
      "    branch_time_in_parent:  73000.0\n",
      "    contact:                Lijuan Li(ljli@mail.iap.ac.cn)\n",
      "    creation_date:          2019-11-25T15:29:32Z\n",
      "    data_specs_version:     01.00.30\n",
      "    experiment:             pre-industrial control\n",
      "    experiment_id:          piControl\n",
      "    forcing_index:          1\n",
      "    frequency:              mon\n",
      "    further_info_url:       https://furtherinfo.es-doc.org/CMIP6.CAS.FGOALS-g...\n",
      "    grid:                   gs1x1\n",
      "    grid_label:             gn\n",
      "    history:                2019-11-25T15:15:52Z ;rewrote data to be consiste...\n",
      "    initialization_index:   1\n",
      "    institution:            Chinese Academy of Sciences, Beijing 100029, China\n",
      "    institution_id:         CAS\n",
      "    mip_era:                CMIP6\n",
      "    nominal_resolution:     100 km\n",
      "    parent_activity_id:     CMIP\n",
      "    parent_experiment_id:   piControl-spinup\n",
      "    parent_mip_era:         CMIP6\n",
      "    parent_source_id:       FGOALS-g3\n",
      "    parent_time_units:      days since 0001-01-01\n",
      "    parent_variant_label:   r1i1p1f1\n",
      "    physics_index:          1\n",
      "    product:                model-output\n",
      "    realization_index:      1\n",
      "    realm:                  ocean\n",
      "    run_variant:            forcing: black carbon aerosol only\n",
      "    source:                 FGOALS-g3 (2017): \\naerosol: none\\natmos: GAMIL2 ...\n",
      "    source_id:              FGOALS-g3\n",
      "    source_type:            AOGCM\n",
      "    sub_experiment:         none\n",
      "    sub_experiment_id:      none\n",
      "    table_id:               Omon\n",
      "    table_info:             Creation Date:(09 May 2019) MD5:cde930676e68ac678...\n",
      "    title:                  FGOALS-g3 output prepared for CMIP6\n",
      "    tracking_id:            hdl:21.14100/5f717af5-d65a-44a4-8371-b0448230850e\n",
      "    variable_id:            msftmz\n",
      "    variant_label:          r1i1p1f1\n",
      "    license:                CMIP6 model data produced by LASG, Institute of A...\n",
      "    cmor_version:           3.4.0\n"
     ]
    }
   ],
   "source": [
    "pi_fgoalsg3_2=pi_fgoalsg3_1.sel(basin=0)\n",
    "print(pi_fgoalsg3_2)"
   ]
  },
  {
   "cell_type": "code",
   "execution_count": 53,
   "metadata": {},
   "outputs": [],
   "source": [
    "pi_fgoalsg3=pi_fgoalsg3_2.mean(dim='time')"
   ]
  },
  {
   "cell_type": "code",
   "execution_count": 54,
   "metadata": {},
   "outputs": [],
   "source": [
    "pi_fgoalsg3_amoc_data=pi_fgoalsg3.msftmz.values\n",
    "pi_fgoalsg3_lev_data=pi_fgoalsg3.lev.values\n",
    "pi_fgoalsg3_lat_data=pi_fgoalsg3.lat.values"
   ]
  },
  {
   "cell_type": "code",
   "execution_count": 55,
   "metadata": {},
   "outputs": [],
   "source": [
    "depth = DimCoord(pi_fgoalsg3_lev_data, standard_name='depth', units='m')\n",
    "latitude = DimCoord(pi_fgoalsg3_lat_data, standard_name='latitude', units='degrees')\n",
    "\n",
    "pi_cube_fgoalsg3_amoc = Cube(pi_fgoalsg3_amoc_data,dim_coords_and_dims=[(depth, 0), (latitude, 1)])"
   ]
  },
  {
   "cell_type": "code",
   "execution_count": 56,
   "metadata": {},
   "outputs": [
    {
     "name": "stdout",
     "output_type": "stream",
     "text": [
      "unknown / (Sv)                      (depth: 31; latitude: 316)\n",
      "     Dimension coordinates:\n",
      "          depth                           x             -\n",
      "          latitude                        -             x\n"
     ]
    }
   ],
   "source": [
    "pi_cube_fgoalsg3_amoc.data *=1e-9\n",
    "pi_cube_fgoalsg3_amoc.units = 'Sv'\n",
    "print(pi_cube_fgoalsg3_amoc)"
   ]
  },
  {
   "cell_type": "code",
   "execution_count": 57,
   "metadata": {},
   "outputs": [],
   "source": [
    "filename_35='../../../Desktop/esgf_data_folder/streamfunction/pi_access_combined.nc'\n",
    "pi_acc_1=xr.open_dataset(filename_35,decode_times=False)"
   ]
  },
  {
   "cell_type": "code",
   "execution_count": 58,
   "metadata": {
    "scrolled": true
   },
   "outputs": [
    {
     "name": "stdout",
     "output_type": "stream",
     "text": [
      "<xarray.Dataset>\n",
      "Dimensions:    (bnds: 2, lev: 50, rlat: 300, time: 10800)\n",
      "Coordinates:\n",
      "    sector     |S21 ...\n",
      "  * rlat       (rlat) float64 -77.75 -77.51 -77.26 -77.01 ... 89.1 89.55 90.0\n",
      "  * lev        (lev) float64 5.0 15.0 25.0 ... 5.166e+03 5.499e+03 5.831e+03\n",
      "  * time       (time) float64 15.5 45.0 74.5 ... 3.286e+05 3.287e+05 3.287e+05\n",
      "Dimensions without coordinates: bnds\n",
      "Data variables:\n",
      "    time_bnds  (time, bnds) float64 ...\n",
      "    lev_bnds   (time, lev, bnds) float64 ...\n",
      "    rlat_bnds  (time, rlat, bnds) float64 ...\n",
      "    msftyz     (time, lev, rlat) float32 ...\n",
      "Attributes:\n",
      "    Conventions:            CF-1.7 CMIP-6.2\n",
      "    activity_id:            CMIP\n",
      "    branch_method:          standard\n",
      "    branch_time_in_child:   0.0\n",
      "    branch_time_in_parent:  36524.0\n",
      "    creation_date:          2019-11-12T23:13:57Z\n",
      "    data_specs_version:     01.00.30\n",
      "    experiment:             pre-industrial control\n",
      "    experiment_id:          piControl\n",
      "    forcing_index:          1\n",
      "    frequency:              mon\n",
      "    further_info_url:       https://furtherinfo.es-doc.org/CMIP6.CSIRO.ACCESS...\n",
      "    grid:                   native atmosphere N96 grid (145x192 latxlon)\n",
      "    grid_label:             gn\n",
      "    history:                2019-11-12T23:13:57Z ; CMOR rewrote data to be co...\n",
      "    initialization_index:   1\n",
      "    institution:            Commonwealth Scientific and Industrial Research O...\n",
      "    institution_id:         CSIRO\n",
      "    mip_era:                CMIP6\n",
      "    nominal_resolution:     250 km\n",
      "    notes:                  Exp: ESM-piControl; Local ID: PI-01; Variable: ms...\n",
      "    parent_activity_id:     CMIP\n",
      "    parent_experiment_id:   piControl-spinup\n",
      "    parent_mip_era:         CMIP6\n",
      "    parent_source_id:       ACCESS-ESM1-5\n",
      "    parent_time_units:      days since 0001-01-01\n",
      "    parent_variant_label:   r1i1p1f1\n",
      "    physics_index:          1\n",
      "    product:                model-output\n",
      "    realization_index:      1\n",
      "    realm:                  ocean\n",
      "    run_variant:            forcing: GHG, Oz, SA, Sl, Vl, BC, OC, (GHG = CO2,...\n",
      "    source:                 ACCESS-ESM1.5 (2019): \\naerosol: CLASSIC (v1.0)\\n...\n",
      "    source_id:              ACCESS-ESM1-5\n",
      "    source_type:            AOGCM\n",
      "    sub_experiment:         none\n",
      "    sub_experiment_id:      none\n",
      "    table_id:               Omon\n",
      "    table_info:             Creation Date:(30 April 2019) MD5:e14f55f257cceaf...\n",
      "    title:                  ACCESS-ESM1-5 output prepared for CMIP6\n",
      "    variable_id:            msftyz\n",
      "    variant_label:          r1i1p1f1\n",
      "    version:                v20191112\n",
      "    cmor_version:           3.4.0\n",
      "    tracking_id:            hdl:21.14100/8eb85e52-63db-4afe-be2b-366ce2e5dad7\n",
      "    license:                CMIP6 model data produced by CSIRO is licensed un...\n"
     ]
    }
   ],
   "source": [
    "pi_acc_2=pi_acc_1.sel(basin=0)\n",
    "print(pi_acc_2)"
   ]
  },
  {
   "cell_type": "code",
   "execution_count": 59,
   "metadata": {},
   "outputs": [],
   "source": [
    "pi_acc=pi_acc_2.mean(dim='time')"
   ]
  },
  {
   "cell_type": "code",
   "execution_count": 60,
   "metadata": {},
   "outputs": [],
   "source": [
    "pi_acc_amoc_data=pi_acc.msftyz.values\n",
    "pi_acc_lev_data=pi_acc.lev.values\n",
    "pi_acc_lat_data=pi_acc.rlat.values"
   ]
  },
  {
   "cell_type": "code",
   "execution_count": 61,
   "metadata": {},
   "outputs": [],
   "source": [
    "depth = DimCoord(pi_acc_lev_data, standard_name='depth', units='m')\n",
    "latitude = DimCoord(pi_acc_lat_data, standard_name='latitude', units='degrees')\n",
    "\n",
    "pi_cube_acc_amoc = Cube(pi_acc_amoc_data,dim_coords_and_dims=[(depth, 0), (latitude, 1)])"
   ]
  },
  {
   "cell_type": "code",
   "execution_count": 62,
   "metadata": {},
   "outputs": [
    {
     "name": "stdout",
     "output_type": "stream",
     "text": [
      "unknown / (Sv)                      (depth: 50; latitude: 300)\n",
      "     Dimension coordinates:\n",
      "          depth                           x             -\n",
      "          latitude                        -             x\n"
     ]
    }
   ],
   "source": [
    "pi_cube_acc_amoc.data *=1e-9\n",
    "pi_cube_acc_amoc.units = 'Sv'\n",
    "print(pi_cube_acc_amoc)"
   ]
  },
  {
   "cell_type": "markdown",
   "metadata": {},
   "source": [
    "## load other models' pi-amoc_mean_ann'"
   ]
  },
  {
   "cell_type": "code",
   "execution_count": 2,
   "metadata": {},
   "outputs": [],
   "source": [
    "pi_cube_ec_amoc = iris.load_cube('EC-Earth3-LR_piControl.cvdp_data.2219-2419.nc','amoc_mean_ann')\n",
    "\n",
    "pi_cube_fgoalsf3_amoc = iris.load_cube('FGOALS-f3-L_piCtl-substitute.cvdp_data.1850-1899.nc', 'amoc_mean_ann')\n",
    "\n",
    "pi_cube_giss_amoc = iris.load_cube('GISS-E2-1-G_piControl.cvdp_data.4150-5000.nc', 'amoc_mean_ann')\n",
    "\n",
    "pi_cube_hadgem_amoc = iris.load_cube('HadGEM3-GC31-LL_piControl.cvdp_data.2250-2349.nc', 'amoc_mean_ann')\n",
    "\n",
    "pi_cube_ipsl_amoc = iris.load_cube('IPSL-CM6A-LR_piControl.cvdp_data.1850-3049.nc', 'amoc_mean_ann')\n",
    "\n",
    "pi_cube_noresm2_amoc = iris.load_cube('NorESM2-LM_piControl.cvdp_data.1710-2100.nc','amoc_mean_ann')\n"
   ]
  },
  {
   "cell_type": "code",
   "execution_count": 63,
   "metadata": {},
   "outputs": [],
   "source": [
    "filename_4='CESM2_piControl.cvdp_data.701-1200.nc'\n",
    "pi_cesm=xr.open_dataset(filename_4,decode_times=False)"
   ]
  },
  {
   "cell_type": "code",
   "execution_count": 64,
   "metadata": {},
   "outputs": [],
   "source": [
    "pi_cesm_amoc_data=pi_cesm.amoc_mean_ann.values\n",
    "pi_cesm_lev_data=pi_cesm.lev.values\n",
    "pi_cesm_lat_data=pi_cesm.lat_amoc.values"
   ]
  },
  {
   "cell_type": "code",
   "execution_count": 65,
   "metadata": {},
   "outputs": [],
   "source": [
    "pi_depth = DimCoord(pi_cesm_lev_data, standard_name='depth', units='m')\n",
    "pi_latitude = DimCoord(pi_cesm_lat_data, standard_name='latitude', units='degrees')\n",
    "\n",
    "pi_cube_cesm_amoc = Cube(pi_cesm_amoc_data,dim_coords_and_dims=[(pi_depth, 0), (pi_latitude, 1)])"
   ]
  },
  {
   "cell_type": "code",
   "execution_count": 66,
   "metadata": {},
   "outputs": [],
   "source": [
    "pi_amoc_cube=[pi_cube_acc_amoc, pi_cube_cesm_amoc, pi_cube_ec_amoc, pi_cube_fgoalsf3_amoc,\n",
    "              pi_cube_fgoalsg3_amoc, pi_cube_giss_amoc, pi_cube_hadgem_amoc,\n",
    "              pi_cube_ipsl_amoc, pi_cube_noresm2_amoc]"
   ]
  },
  {
   "cell_type": "markdown",
   "metadata": {},
   "source": [
    "## most pi_models have coords: depth,latitude, except for EC & IPSL"
   ]
  },
  {
   "cell_type": "code",
   "execution_count": 67,
   "metadata": {},
   "outputs": [],
   "source": [
    "for n in (0,1,3,4,5,8): #except for ec, hadgem & ipsl:\n",
    "    globals()['pi_'+ lig_modelname[n]+'_amoc_regrid'] = pi_amoc_cube[n].interpolate(sample_points_1, iris.analysis.Linear())\n",
    "    "
   ]
  },
  {
   "cell_type": "code",
   "execution_count": 68,
   "metadata": {},
   "outputs": [],
   "source": [
    "sample_points_2 = [('depth', np.linspace(0,6000,61)),\n",
    "                   ('grid_latitude',  np.linspace(-89.5,89.5,180))]"
   ]
  },
  {
   "cell_type": "code",
   "execution_count": 69,
   "metadata": {},
   "outputs": [],
   "source": [
    "for n in (2,6): #for ec & hadgem\n",
    "    globals()['pi_'+ lig_modelname[n]+'_amoc_regrid'] = pi_amoc_cube[n].interpolate(sample_points_2, iris.analysis.Linear())\n"
   ]
  },
  {
   "cell_type": "code",
   "execution_count": 70,
   "metadata": {},
   "outputs": [],
   "source": [
    "for n in range (7,8): #for ipsl\n",
    "    globals()['pi_'+ lig_modelname[n]+'_amoc_regrid'] = pi_amoc_cube[n].interpolate(sample_points_3, iris.analysis.Linear())\n"
   ]
  },
  {
   "cell_type": "code",
   "execution_count": 71,
   "metadata": {},
   "outputs": [],
   "source": [
    "pi_lig_amoc_model_total= pi_acc_amoc_regrid[:,89:181].data + pi_cesm_amoc_regrid[:,89:181].data + pi_ec_amoc_regrid[:,89:181].data + pi_fgoalsf3_amoc_regrid[:,89:181].data + pi_fgoalsg3_amoc_regrid[:,89:181].data + pi_giss_amoc_regrid[:,89:181].data + pi_hadgem_amoc_regrid[:,89:181].data + pi_ipsl_amoc_regrid[:,89:181].data + pi_noresm2_amoc_regrid[:,89:181].data  "
   ]
  },
  {
   "cell_type": "code",
   "execution_count": 72,
   "metadata": {},
   "outputs": [],
   "source": [
    "pi_lig_amoc_model_ave=pi_lig_amoc_model_total / 9"
   ]
  },
  {
   "cell_type": "code",
   "execution_count": 73,
   "metadata": {},
   "outputs": [],
   "source": [
    "pi_lig_amoc_model_ave_1 = pi_giss_amoc_regrid[:,89:181].copy(data=pi_lig_amoc_model_ave)"
   ]
  },
  {
   "cell_type": "code",
   "execution_count": 103,
   "metadata": {},
   "outputs": [],
   "source": [
    "# compute the AMOC change (lig-pi) in individual models\n",
    "for j in range (0,9): \n",
    "    globals()['lig_pi_diff_'+ lig_modelname[j]] = globals()[lig_modelname[j]+'_amoc_regrid'][:,89:181].data - globals()['pi_'+ lig_modelname[j]+'_amoc_regrid'][:,89:181].data"
   ]
  },
  {
   "cell_type": "code",
   "execution_count": 104,
   "metadata": {},
   "outputs": [],
   "source": [
    "# take the averages of the regridded AMOC changes produced by individual models\n",
    "lig_pi_indiv_diff_total = lig_pi_diff_acc + lig_pi_diff_cesm + lig_pi_diff_ec + lig_pi_diff_fgoalsf3 + lig_pi_diff_fgoalsg3 + lig_pi_diff_giss + lig_pi_diff_hadgem +  lig_pi_diff_ipsl + lig_pi_diff_noresm2\n",
    "lig_pi_indiv_diff_ave = lig_pi_indiv_diff_total / 9"
   ]
  },
  {
   "cell_type": "code",
   "execution_count": 105,
   "metadata": {},
   "outputs": [],
   "source": [
    "# put back the data into one of the regridded models in order to use its dimension coordinates for further plotting\n",
    "lig_pi_indiv_diff_ave_1 = pi_giss_amoc_regrid[:,89:181].copy(data=lig_pi_indiv_diff_ave)"
   ]
  },
  {
   "cell_type": "markdown",
   "metadata": {},
   "source": [
    "# changes in AMOC spatial strcture (LIG - PI) -- 8 pmip4 models "
   ]
  },
  {
   "cell_type": "code",
   "execution_count": 106,
   "metadata": {},
   "outputs": [
    {
     "data": {
      "text/plain": [
       "[Text(0.5, 1.0, 'mean (annual) AMOC changes (LIG - PI)\\n ensemble mean -- 9 PMIP4 models')]"
      ]
     },
     "execution_count": 106,
     "metadata": {},
     "output_type": "execute_result"
    },
    {
     "data": {
      "image/png": "[encoded data removed]",
      "text/plain": [
       "<Figure size 576x504 with 2 Axes>"
      ]
     },
     "metadata": {
      "needs_background": "light"
     },
     "output_type": "display_data"
    }
   ],
   "source": [
    "fig=plt.figure(figsize=(8,7))\n",
    "ax=fig.add_subplot(111)\n",
    "\n",
    "qplt.contourf(lig_pi_indiv_diff_ave_1, np.arange(-1.8,2.0,0.2), cmap='bwr')\n",
    "figure=qplt.contour(pi_lig_amoc_model_ave_1, np.arange(-6,32,2), colors='k',alpha=0.65,linestyles='solid') \n",
    "\n",
    "ax.clabel(figure, inline=1, fontsize=10, fmt='%1.0f')\n",
    "\n",
    "\n",
    "ax.yaxis.set_minor_locator(MultipleLocator(200))\n",
    "ax.yaxis.set_major_locator(MultipleLocator(1000))\n",
    "#ax.xaxis.set_minor_locator(MultipleLocator(10))\n",
    "ax.xaxis.set_major_locator(MultipleLocator(10))\n",
    "ax.tick_params(which='both', direction='out', top=True, right=True, labelsize=10.)\n",
    "\n",
    "ax.set_ylim(5000,0)\n",
    "ax.set_xlim(0,85)\n",
    "ax.set(title='mean (annual) AMOC changes (LIG - PI)\\n ensemble mean -- 9 PMIP4 models') "
   ]
  },
  {
   "cell_type": "markdown",
   "metadata": {},
   "source": [
    "## NOW, add in the MH AMOC data, for MH_AMOC mean (annual)--model averages (8 pmip4 models)\n",
    "\n",
    "## only use the models which also has lig runs, so no ACCESS-ESM1-5\n",
    "\n",
    "   MH AMOC data's name is in the format of 'p4_cube_xxxx'"
   ]
  },
  {
   "cell_type": "code",
   "execution_count": 74,
   "metadata": {},
   "outputs": [],
   "source": [
    "# load mh_fgoals-g3\n",
    "filename_36='../../../Desktop/esgf_data_folder/streamfunction/mh_fgoalsg3_combined.nc'\n",
    "p4_fgoalsg3_1=xr.open_dataset(filename_36,decode_times=False)"
   ]
  },
  {
   "cell_type": "code",
   "execution_count": 75,
   "metadata": {
    "scrolled": true
   },
   "outputs": [
    {
     "name": "stdout",
     "output_type": "stream",
     "text": [
      "<xarray.Dataset>\n",
      "Dimensions:    (bnds: 2, lat: 316, lev: 31, time: 6000)\n",
      "Coordinates:\n",
      "    sector     |S21 ...\n",
      "  * lev        (lev) float64 0.0 10.0 20.0 30.0 ... 4.19e+03 4.887e+03 5.6e+03\n",
      "  * lat        (lat) float64 -75.99 -75.75 -75.5 -75.24 ... 89.37 89.62 89.87\n",
      "  * time       (time) float64 2.285e+05 2.285e+05 ... 4.109e+05 4.11e+05\n",
      "Dimensions without coordinates: bnds\n",
      "Data variables:\n",
      "    time_bnds  (time, bnds) float64 ...\n",
      "    lev_bnds   (time, lev, bnds) float64 ...\n",
      "    lat_bnds   (time, lat, bnds) float64 ...\n",
      "    msftmz     (time, lev, lat) float32 ...\n",
      "Attributes:\n",
      "    Conventions:            CF-1.7 CMIP-6.2\n",
      "    activity_id:            PMIP\n",
      "    branch_method:          no parent\n",
      "    branch_time_in_child:   228490.0\n",
      "    branch_time_in_parent:  0.0\n",
      "    contact:                Lijuan Li(ljli@mail.iap.ac.cn)\n",
      "    creation_date:          2019-10-24T14:21:04Z\n",
      "    data_specs_version:     01.00.30\n",
      "    experiment:             mid-Holocene\n",
      "    experiment_id:          midHolocene\n",
      "    forcing_index:          1\n",
      "    frequency:              mon\n",
      "    further_info_url:       https://furtherinfo.es-doc.org/CMIP6.CAS.FGOALS-g...\n",
      "    grid:                   gs1x1\n",
      "    grid_label:             gn\n",
      "    history:                2019-10-24T14:11:04Z ;rewrote data to be consiste...\n",
      "    initialization_index:   1\n",
      "    institution:            Chinese Academy of Sciences, Beijing 100029, China\n",
      "    institution_id:         CAS\n",
      "    mip_era:                CMIP6\n",
      "    nominal_resolution:     100 km\n",
      "    parent_activity_id:     no parent\n",
      "    parent_experiment_id:   no parent\n",
      "    parent_mip_era:         no parent\n",
      "    parent_source_id:       no parent\n",
      "    parent_time_units:      no parent\n",
      "    parent_variant_label:   no parent\n",
      "    physics_index:          1\n",
      "    product:                model-output\n",
      "    realization_index:      1\n",
      "    realm:                  ocean\n",
      "    run_variant:            forcing: black carbon aerosol only\n",
      "    source:                 FGOALS-g3 (2017): \\naerosol: none\\natmos: GAMIL2 ...\n",
      "    source_id:              FGOALS-g3\n",
      "    source_type:            AOGCM\n",
      "    sub_experiment:         none\n",
      "    sub_experiment_id:      none\n",
      "    table_id:               Omon\n",
      "    table_info:             Creation Date:(09 May 2019) MD5:cde930676e68ac678...\n",
      "    title:                  FGOALS-g3 output prepared for CMIP6\n",
      "    tracking_id:            hdl:21.14100/7cfc2024-4f87-425b-97a4-5d6f2575e819\n",
      "    variable_id:            msftmz\n",
      "    variant_label:          r1i1p1f1\n",
      "    license:                CMIP6 model data produced by LASG, Institute of A...\n",
      "    cmor_version:           3.4.0\n"
     ]
    }
   ],
   "source": [
    "p4_fgoalsg3_2=p4_fgoalsg3_1.sel(basin=0)\n",
    "print(p4_fgoalsg3_2)"
   ]
  },
  {
   "cell_type": "code",
   "execution_count": 76,
   "metadata": {},
   "outputs": [],
   "source": [
    "p4_fgoalsg3=p4_fgoalsg3_2.mean(dim='time')"
   ]
  },
  {
   "cell_type": "code",
   "execution_count": 77,
   "metadata": {},
   "outputs": [],
   "source": [
    "p4_fgoalsg3_amoc_data=p4_fgoalsg3.msftmz.values\n",
    "p4_fgoalsg3_lev_data=p4_fgoalsg3.lev.values\n",
    "p4_fgoalsg3_lat_data=p4_fgoalsg3.lat.values"
   ]
  },
  {
   "cell_type": "code",
   "execution_count": 78,
   "metadata": {},
   "outputs": [],
   "source": [
    "depth = DimCoord(p4_fgoalsg3_lev_data, standard_name='depth', units='m')\n",
    "latitude = DimCoord(p4_fgoalsg3_lat_data, standard_name='latitude', units='degrees')\n",
    "\n",
    "p4_cube_fgoalsg3_amoc = Cube(p4_fgoalsg3_amoc_data,dim_coords_and_dims=[(depth, 0), (latitude, 1)])"
   ]
  },
  {
   "cell_type": "code",
   "execution_count": 79,
   "metadata": {},
   "outputs": [
    {
     "name": "stdout",
     "output_type": "stream",
     "text": [
      "unknown / (Sv)                      (depth: 31; latitude: 316)\n",
      "     Dimension coordinates:\n",
      "          depth                           x             -\n",
      "          latitude                        -             x\n"
     ]
    }
   ],
   "source": [
    "p4_cube_fgoalsg3_amoc.data *=1e-9\n",
    "p4_cube_fgoalsg3_amoc.units = 'Sv'\n",
    "print(p4_cube_fgoalsg3_amoc)"
   ]
  },
  {
   "cell_type": "code",
   "execution_count": 3,
   "metadata": {},
   "outputs": [],
   "source": [
    "## MH AMOC data's name in the format of 'p4_cube_xxxx'\n",
    "\n",
    "p4_cube_ec_amoc = iris.load_cube('EC-Earth3-LR_midHolocene.cvdp_data.2245-2445.nc','amoc_mean_ann') #'depth''grid_latitude'\n",
    "\n",
    "p4_cube_fgoalsf3_amoc = iris.load_cube('FGOALS-f3-L_midHolocene.cvdp_data.1020-1219.nc', 'amoc_mean_ann') \n",
    "\n",
    "p4_cube_giss_amoc = iris.load_cube('GISS-E2-1-G_midHolocene.cvdp_data.2900-2999.nc', 'amoc_mean_ann')\n",
    "\n",
    "p4_cube_hadgem_amoc = iris.load_cube('HadGEM3-GC31-LL_midHolocene.cvdp_data.2250-2349.nc', 'amoc_mean_ann') #'grid_latitude'\n",
    "\n",
    "p4_cube_ipsl_amoc = iris.load_cube('IPSL-CM6A-LR_midHolocene.cvdp_data.1850-2399.nc', 'amoc_mean_ann') #'Vertical W levels'\n",
    "\n",
    "p4_cube_noresm2_amoc = iris.load_cube('NorESM2-LM_midHolocene.cvdp_data.2101-2200.nc', 'amoc_mean_ann')"
   ]
  },
  {
   "cell_type": "code",
   "execution_count": 2,
   "metadata": {},
   "outputs": [],
   "source": [
    "#extract amoc_mean_ann data from CESM mannually, and then create a new cube\n",
    "\n",
    "Filename_3='CESM2_midHolocene.cvdp_data.1-700.nc'\n",
    "p4_cesm=xr.open_dataset(Filename_3,decode_times=False)"
   ]
  },
  {
   "cell_type": "code",
   "execution_count": 82,
   "metadata": {},
   "outputs": [],
   "source": [
    "p4_cesm_amoc_data=p4_cesm.amoc_mean_ann.values\n",
    "p4_cesm_lev_data=p4_cesm.lev.values\n",
    "p4_cesm_lat_data=p4_cesm.lat_amoc.values"
   ]
  },
  {
   "cell_type": "code",
   "execution_count": 84,
   "metadata": {},
   "outputs": [],
   "source": [
    "p4_depth = DimCoord(p4_cesm_lev_data, standard_name='depth', units='m')\n",
    "p4_latitude = DimCoord(p4_cesm_lat_data, standard_name='latitude', units='degrees')\n",
    "\n",
    "p4_cube_cesm_amoc = Cube(p4_cesm_amoc_data,dim_coords_and_dims=[(p4_depth, 0), (p4_latitude, 1)])"
   ]
  },
  {
   "cell_type": "code",
   "execution_count": 95,
   "metadata": {},
   "outputs": [
    {
     "name": "stdout",
     "output_type": "stream",
     "text": [
      "unknown / (unknown)                 (depth: 61; latitude: 395)\n",
      "     Dimension coordinates:\n",
      "          depth                           x             -\n",
      "          latitude                        -             x\n"
     ]
    }
   ],
   "source": [
    "print(p4_cube_cesm_amoc)"
   ]
  },
  {
   "cell_type": "code",
   "execution_count": 85,
   "metadata": {},
   "outputs": [],
   "source": [
    "p4_amoc_cube=[p4_cube_cesm_amoc, p4_cube_ec_amoc, p4_cube_fgoalsf3_amoc, p4_cube_fgoalsg3_amoc,\n",
    "              p4_cube_giss_amoc, p4_cube_hadgem_amoc, p4_cube_ipsl_amoc, p4_cube_noresm2_amoc]"
   ]
  },
  {
   "cell_type": "code",
   "execution_count": 86,
   "metadata": {},
   "outputs": [],
   "source": [
    "pmip4_modelname=['cesm','ec','fgoalsf3','fgoalsg3','giss','hadgem','ipsl','noresm2']"
   ]
  },
  {
   "cell_type": "code",
   "execution_count": 87,
   "metadata": {},
   "outputs": [],
   "source": [
    "for n in (0,2,3,4,7): #except for ec & hadgem & ipsl:\n",
    "    globals()['p4_'+pmip4_modelname[n]+'_amoc_regrid'] = p4_amoc_cube[n].interpolate(sample_points_1, iris.analysis.Linear())\n"
   ]
  },
  {
   "cell_type": "code",
   "execution_count": 88,
   "metadata": {},
   "outputs": [],
   "source": [
    "for n in (1,5): #for ec, hadgem\n",
    "    globals()['p4_'+pmip4_modelname[n]+'_amoc_regrid'] = p4_amoc_cube[n].interpolate(sample_points_2, iris.analysis.Linear())\n"
   ]
  },
  {
   "cell_type": "code",
   "execution_count": 89,
   "metadata": {},
   "outputs": [],
   "source": [
    "for n in range (6,7): #for ipsl \n",
    "    globals()['p4_'+pmip4_modelname[n]+'_amoc_regrid'] = p4_amoc_cube[n].interpolate(sample_points_3, iris.analysis.Linear())\n"
   ]
  },
  {
   "cell_type": "code",
   "execution_count": 97,
   "metadata": {},
   "outputs": [],
   "source": [
    "# as cubes have different coord names, so do the calculation with data only first\n",
    "pmip4_amoc_model_total= p4_cesm_amoc_regrid[:,89:181].data + p4_ec_amoc_regrid[:,89:181].data + p4_fgoalsf3_amoc_regrid[:,89:181].data + p4_fgoalsg3_amoc_regrid[:,89:181].data + p4_giss_amoc_regrid[:,89:181].data + p4_hadgem_amoc_regrid[:,89:181].data + p4_ipsl_amoc_regrid[:,89:181].data + p4_noresm2_amoc_regrid[:,89:181].data "
   ]
  },
  {
   "cell_type": "code",
   "execution_count": 98,
   "metadata": {},
   "outputs": [],
   "source": [
    "pmip4_amoc_model_ave=pmip4_amoc_model_total / 8"
   ]
  },
  {
   "cell_type": "code",
   "execution_count": 99,
   "metadata": {},
   "outputs": [],
   "source": [
    "# then, copy a sample cube to use its coords, but repalce its data with the newly-calculated ones  \n",
    "pmip4_amoc_model_ave_1 = p4_giss_amoc_regrid[:,89:181].copy(data=pmip4_amoc_model_ave)"
   ]
  },
  {
   "cell_type": "code",
   "execution_count": 107,
   "metadata": {},
   "outputs": [],
   "source": [
    "# compute the AMOC change (lig-mh) in individual models\n",
    "for j in range (0,8): \n",
    "    globals()['lig_mh_diff_'+ pmip4_modelname[j]] = globals()[pmip4_modelname[j]+'_amoc_regrid'][:,89:181].data - globals()['p4_'+ pmip4_modelname[j]+'_amoc_regrid'][:,89:181].data"
   ]
  },
  {
   "cell_type": "code",
   "execution_count": 108,
   "metadata": {},
   "outputs": [],
   "source": [
    "# take the averages of the regridded AMOC changes produced by individual models\n",
    "lig_mh_indiv_diff_total = lig_mh_diff_cesm + lig_mh_diff_ec + lig_mh_diff_fgoalsf3 + lig_mh_diff_fgoalsg3 + lig_mh_diff_giss + lig_mh_diff_hadgem +  lig_mh_diff_ipsl + lig_mh_diff_noresm2\n",
    "lig_mh_indiv_diff_ave = lig_mh_indiv_diff_total / 8"
   ]
  },
  {
   "cell_type": "code",
   "execution_count": 111,
   "metadata": {},
   "outputs": [],
   "source": [
    "# put back the data into one of the regridded models in order to use its dimension coordinates for further plotting\n",
    "lig_mh_indiv_diff_ave_1 = pi_giss_amoc_regrid[:,89:181].copy(data=lig_mh_indiv_diff_ave)"
   ]
  },
  {
   "cell_type": "markdown",
   "metadata": {},
   "source": [
    "# Ensemble mean AMOC changes between MH models and LIG (LIG-MH), use MH as a baseline (same as using PI as a baseline)\n",
    "\n",
    "## Models have AMOC data in both LIG and MH (8 pmip4 models)"
   ]
  },
  {
   "cell_type": "code",
   "execution_count": 112,
   "metadata": {},
   "outputs": [
    {
     "data": {
      "text/plain": [
       "[Text(0.5, 1.0, 'mean (annual) AMOC changes (LIG - MH) \\n ensemble mean -- 8 PMIP4 models')]"
      ]
     },
     "execution_count": 112,
     "metadata": {},
     "output_type": "execute_result"
    },
    {
     "data": {
      "image/png": "[encoded data removed]",
      "text/plain": [
       "<Figure size 576x504 with 2 Axes>"
      ]
     },
     "metadata": {
      "needs_background": "light"
     },
     "output_type": "display_data"
    }
   ],
   "source": [
    "fig=plt.figure(figsize=(8,7))\n",
    "ax=fig.add_subplot(111)\n",
    "\n",
    "qplt.contourf(lig_mh_indiv_diff_ave_1, np.arange(-1.2,1.4,0.2), cmap='bwr')\n",
    "figure=qplt.contour(pmip4_amoc_model_ave_1, np.arange(-6,32,2), colors='k',alpha=0.65,linestyles='solid') \n",
    "\n",
    "ax.clabel(figure, inline=1, fontsize=10, fmt='%1.0f')\n",
    "\n",
    "\n",
    "ax.yaxis.set_minor_locator(MultipleLocator(200))\n",
    "ax.yaxis.set_major_locator(MultipleLocator(1000))\n",
    "#ax.xaxis.set_minor_locator(MultipleLocator(10))\n",
    "ax.xaxis.set_major_locator(MultipleLocator(10))\n",
    "ax.tick_params(which='both', direction='out', top=True, right=True, labelsize=10.)\n",
    "\n",
    "ax.set_ylim(5000,0)\n",
    "ax.set_xlim(0,85)\n",
    "ax.set(title='mean (annual) AMOC changes (LIG - MH) \\n ensemble mean -- 8 PMIP4 models')\n",
    "\n",
    "## black contours show ensemble mean AMOC spatial structure in the MH (PMIP4)\n",
    "\n",
    "# changes in maximum AMOC strength: about 0.2-0.4 Sv"
   ]
  },
  {
   "cell_type": "code",
   "execution_count": null,
   "metadata": {},
   "outputs": [],
   "source": []
  }
 ],
 "metadata": {
  "kernelspec": {
   "display_name": "Python 3 (ipykernel)",
   "language": "python",
   "name": "python3"
  },
  "language_info": {
   "codemirror_mode": {
    "name": "ipython",
    "version": 3
   },
   "file_extension": ".py",
   "mimetype": "text/x-python",
   "name": "python",
   "nbconvert_exporter": "python",
   "pygments_lexer": "ipython3",
   "version": "3.10.5"
  }
 },
 "nbformat": 4,
 "nbformat_minor": 4
}
