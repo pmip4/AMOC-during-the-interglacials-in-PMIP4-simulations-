{
 "cells": [
  {
   "cell_type": "code",
   "execution_count": 2,
   "metadata": {},
   "outputs": [],
   "source": [
    "import xarray as xr\n",
    "import matplotlib.pyplot as plt\n",
    "import numpy as np\n",
    "import pandas as pd\n",
    "\n",
    "import cartopy\n",
    "import cartopy.crs as ccrs\n",
    "import matplotlib\n",
    "%matplotlib inline\n",
    "from netCDF4 import Dataset\n",
    "\n",
    "\n",
    "import iris\n",
    "import iris.plot as iplt\n",
    "import iris.quickplot as qplt\n",
    "import matplotlib.colors as colors\n",
    "from sklearn import datasets\n",
    "import iris.analysis\n",
    "import numpy.ma as ma\n",
    "\n",
    "import matplotlib.ticker as mticker\n",
    "from matplotlib.ticker import MultipleLocator\n",
    "from cartopy.mpl.gridliner import LONGITUDE_FORMATTER, LATITUDE_FORMATTER\n",
    "from cartopy.util import add_cyclic_point\n",
    "\n",
    "\n",
    "\n",
    "import matplotlib.cm as mpl_cm\n",
    "from matplotlib.collections import LineCollection\n",
    "from matplotlib.colors import ListedColormap, BoundaryNorm\n",
    "from matplotlib.pyplot import xcorr\n",
    "\n",
    "\n",
    "from scipy.interpolate import splrep, splev\n",
    "from scipy.stats import pearsonr\n",
    "from scipy import signal \n",
    "\n",
    "import math\n",
    "from matplotlib import mlab\n",
    "\n",
    "import warnings\n",
    "warnings.filterwarnings(\"ignore\")"
   ]
  },
  {
   "cell_type": "markdown",
   "metadata": {},
   "source": [
    "## load 5 new added lig_models: acc, ec, fgoalsg3, noresm2, hadgem"
   ]
  },
  {
   "cell_type": "code",
   "execution_count": 3,
   "metadata": {},
   "outputs": [],
   "source": [
    "# load files\n",
    "filename_30='../../../Desktop/esgf_data_folder/streamfunction/lig_fgoalsg3_combined.nc'\n",
    "fgoalsg3_1=xr.open_dataset(filename_30,decode_times=False)\n",
    "\n",
    "filename_31='../../../Desktop/esgf_data_folder/streamfunction/lig_ec_earth_combined.nc'\n",
    "ec_1=xr.open_dataset(filename_31,decode_times=False)\n",
    "\n",
    "filename_32='../../../Desktop/esgf_data_folder/streamfunction/lig_access_combined.nc'\n",
    "acc_1=xr.open_dataset(filename_32,decode_times=False)\n",
    "\n",
    "filename_33='../../../Desktop/esgf_data_folder/streamfunction/lig_noresm2_combined.nc'\n",
    "noresm2_1=xr.open_dataset(filename_33,decode_times=False)\n",
    "\n",
    "filename_40='../../../Desktop/esgf_data_folder/streamfunction/lig_hadgem_combined.nc'\n",
    "hadgem_1=xr.open_dataset(filename_40,decode_times=False)"
   ]
  },
  {
   "cell_type": "code",
   "execution_count": 4,
   "metadata": {},
   "outputs": [],
   "source": [
    "# select the atlantic_arctic ocean, then do the time averages\n",
    "fgoalsg3_2=fgoalsg3_1.sel(basin=0)\n",
    "fgoalsg3=fgoalsg3_2.mean(dim='time')\n",
    "\n",
    "ec_2=ec_1.sel(basin=1)\n",
    "ec=ec_2.mean(dim='time')\n",
    "\n",
    "acc_2=acc_1.sel(basin=0)\n",
    "acc=acc_2.mean(dim='time')\n",
    "\n",
    "noresm2_2=noresm2_1.sel(basin=0)\n",
    "noresm2=noresm2_2.mean(dim='time')\n",
    "\n",
    "hadgem_2=hadgem_1.sel(basin=0)\n",
    "hadgem=hadgem_2.mean(dim='time')"
   ]
  },
  {
   "cell_type": "code",
   "execution_count": 5,
   "metadata": {},
   "outputs": [],
   "source": [
    "acc_amoc_mean=acc.msftmz\n",
    "ec_amoc_mean=ec.msftyz\n",
    "fgoalsg3_amoc_mean=fgoalsg3.msftmz\n",
    "noresm2_amoc_mean=noresm2.msftmz\n",
    "hadgem_amoc_mean=hadgem.msftyz"
   ]
  },
  {
   "cell_type": "markdown",
   "metadata": {},
   "source": [
    "## load 4 new added pi_models: acc, ec, fgoalsg3, noresm2, hadgem"
   ]
  },
  {
   "cell_type": "code",
   "execution_count": 6,
   "metadata": {},
   "outputs": [],
   "source": [
    "filename_34='../../../Desktop/esgf_data_folder/streamfunction/pi_fgoalsg3_combined.nc'\n",
    "pi_fgoalsg3_1=xr.open_dataset(filename_34,decode_times=False)\n",
    "\n",
    "filename_35='../../../Desktop/esgf_data_folder/streamfunction/pi_access_combined.nc'\n",
    "pi_acc_1=xr.open_dataset(filename_35,decode_times=False)"
   ]
  },
  {
   "cell_type": "code",
   "execution_count": 7,
   "metadata": {},
   "outputs": [],
   "source": [
    "pi_fgoalsg3_2=pi_fgoalsg3_1.sel(basin=0)\n",
    "pi_fgoalsg3=pi_fgoalsg3_2.mean(dim='time')\n",
    "\n",
    "pi_acc_2=pi_acc_1.sel(basin=0)\n",
    "pi_acc=pi_acc_2.mean(dim='time')"
   ]
  },
  {
   "cell_type": "code",
   "execution_count": 8,
   "metadata": {},
   "outputs": [],
   "source": [
    "filename_7='EC-Earth3-LR_piControl.cvdp_data.2219-2419.nc'\n",
    "pi_ec=xr.open_dataset(filename_7,decode_times=False)\n",
    "\n",
    "filename_8='NorESM2-LM_piControl.cvdp_data.1710-2100.nc'\n",
    "pi_noresm2=xr.open_dataset(filename_8,decode_times=False)\n",
    "\n",
    "filename_27='HadGEM3-GC31-LL_piControl.cvdp_data.2250-2349.nc'\n",
    "pi_hadgem=xr.open_dataset(filename_27,decode_times=False)"
   ]
  },
  {
   "cell_type": "code",
   "execution_count": 9,
   "metadata": {},
   "outputs": [],
   "source": [
    "pi_acc_amoc_mean=pi_acc.msftyz\n",
    "pi_ec_amoc_mean=pi_ec.amoc_mean_ann\n",
    "pi_fgoalsg3_amoc_mean=pi_fgoalsg3.msftmz\n",
    "pi_hadgem_amoc_mean=pi_hadgem.amoc_mean_ann\n",
    "pi_noresm2_amoc_mean=pi_noresm2.amoc_mean_ann"
   ]
  },
  {
   "cell_type": "markdown",
   "metadata": {},
   "source": [
    "## old code: load LIG and PI amoc data (4 models)"
   ]
  },
  {
   "cell_type": "code",
   "execution_count": 10,
   "metadata": {},
   "outputs": [],
   "source": [
    "filename_3='CESM2_lig127k.cvdp_data.1-700.nc'\n",
    "cesm=xr.open_dataset(filename_3,decode_times=False)\n",
    "\n",
    "filename_4='CESM2_piControl.cvdp_data.701-1200.nc'\n",
    "pi_cesm=xr.open_dataset(filename_4,decode_times=False)\n",
    "\n",
    "filename_5='FGOALS-f3-L_lig127k.cvdp_data.700-1199.nc'\n",
    "fgoalsf3=xr.open_dataset(filename_5,decode_times=False)\n",
    "\n",
    "filename_6='FGOALS-f3-L_piCtl-substitute.cvdp_data.1850-1899.nc'\n",
    "pi_fgoalsf3=xr.open_dataset(filename_6,decode_times=False)\n",
    "\n",
    "filename_11='GISS-E2-1-G_lig127k.cvdp_data.2900-2999.nc'\n",
    "giss=xr.open_dataset(filename_11,decode_times=False)\n",
    "\n",
    "filename_12='GISS-E2-1-G_piControl.cvdp_data.4150-5000.nc'\n",
    "pi_giss=xr.open_dataset(filename_12,decode_times=False)\n",
    "\n",
    "filename_17='IPSL-CM6A-LR_lig127k.cvdp_data.1850-2399.nc'\n",
    "ipsl=xr.open_dataset(filename_17,decode_times=False)\n",
    "\n",
    "filename_18='IPSL-CM6A-LR_piControl.cvdp_data.1850-3049.nc'\n",
    "pi_ipsl=xr.open_dataset(filename_18,decode_times=False)\n"
   ]
  },
  {
   "cell_type": "code",
   "execution_count": 11,
   "metadata": {},
   "outputs": [],
   "source": [
    "cesm_amoc_mean=cesm.amoc_mean_ann\n",
    "pi_cesm_amoc_mean=pi_cesm.amoc_mean_ann\n",
    "\n",
    "fgoalsf3_amoc_mean=fgoalsf3.amoc_mean_ann\n",
    "pi_fgoalsf3_amoc_mean=pi_fgoalsf3.amoc_mean_ann\n",
    "\n",
    "giss_amoc_mean=giss.amoc_mean_ann\n",
    "pi_giss_amoc_mean=pi_giss.amoc_mean_ann\n",
    "\n",
    "ipsl_amoc_mean=ipsl.amoc_mean_ann\n",
    "pi_ipsl_amoc_mean=pi_ipsl.amoc_mean_ann"
   ]
  },
  {
   "cell_type": "code",
   "execution_count": 12,
   "metadata": {},
   "outputs": [],
   "source": [
    "amoc_mean=[acc_amoc_mean, cesm_amoc_mean, ec_amoc_mean, fgoalsf3_amoc_mean, \n",
    "           fgoalsg3_amoc_mean, giss_amoc_mean, hadgem_amoc_mean, \n",
    "           ipsl_amoc_mean, noresm2_amoc_mean]"
   ]
  },
  {
   "cell_type": "code",
   "execution_count": 13,
   "metadata": {},
   "outputs": [],
   "source": [
    "pi_amoc_mean=[pi_acc_amoc_mean, pi_cesm_amoc_mean, pi_ec_amoc_mean, pi_fgoalsf3_amoc_mean, \n",
    "              pi_fgoalsg3_amoc_mean, pi_giss_amoc_mean, pi_hadgem_amoc_mean, \n",
    "              pi_ipsl_amoc_mean, pi_noresm2_amoc_mean]"
   ]
  },
  {
   "cell_type": "code",
   "execution_count": 14,
   "metadata": {},
   "outputs": [],
   "source": [
    "lig_modelname=['acc','cesm','ec','fgoalsf3','fgoalsg3','giss','hadgem','ipsl','noresm2']"
   ]
  },
  {
   "cell_type": "markdown",
   "metadata": {},
   "source": [
    "## calculate the max AMOC at 30/50N\n",
    "\n",
    "### lig --- for cesm, fgoalsf3, giss, ipsl, as they have coords: 'lat_amoc'\n",
    "### pi--- for cesm, ec, fgoalsf3, giss, hadgem, ipsl, noresm2, as they have coords: 'lat_amoc'"
   ]
  },
  {
   "cell_type": "code",
   "execution_count": 15,
   "metadata": {},
   "outputs": [],
   "source": [
    "#for n in range (0,len(lig_modelname)):\n",
    "for n in (1,3,5,7):  # for cesm, fgoalsf3, giss, ipsl\n",
    "    globals()[lig_modelname[n]+'_lat30_amoc']=amoc_mean[n].sel(lat_amoc=30,method='nearest')"
   ]
  },
  {
   "cell_type": "code",
   "execution_count": 16,
   "metadata": {},
   "outputs": [],
   "source": [
    "for n in (1,3,5,7):\n",
    "    globals()[lig_modelname[n]+'_lat50_amoc']=amoc_mean[n].sel(lat_amoc=50,method='nearest')"
   ]
  },
  {
   "cell_type": "code",
   "execution_count": 17,
   "metadata": {},
   "outputs": [],
   "source": [
    "for n in (1,2,3,5,6,7,8):\n",
    "    globals()['pi_'+ lig_modelname[n]+'_lat30_amoc']=pi_amoc_mean[n].sel(lat_amoc=30,method='nearest')"
   ]
  },
  {
   "cell_type": "code",
   "execution_count": 18,
   "metadata": {},
   "outputs": [],
   "source": [
    "for n in (1,2,3,5,6,7,8):\n",
    "    globals()['pi_'+ lig_modelname[n]+'_lat50_amoc']=pi_amoc_mean[n].sel(lat_amoc=50,method='nearest')"
   ]
  },
  {
   "cell_type": "code",
   "execution_count": 19,
   "metadata": {},
   "outputs": [],
   "source": [
    "for u in (1,3,5,7):\n",
    "    globals()['max_'+ lig_modelname[u]+'_lat30_amoc']=np.nanmax(globals()[lig_modelname[u]+'_lat30_amoc'])"
   ]
  },
  {
   "cell_type": "code",
   "execution_count": 20,
   "metadata": {},
   "outputs": [],
   "source": [
    "for u in (1,3,5,7):\n",
    "    globals()['max_'+ lig_modelname[u]+'_lat50_amoc']=np.nanmax(globals()[lig_modelname[u]+'_lat50_amoc'])"
   ]
  },
  {
   "cell_type": "code",
   "execution_count": 21,
   "metadata": {},
   "outputs": [],
   "source": [
    "for u in (1,2,3,5,6,7,8):\n",
    "    globals()['pi_max_'+ lig_modelname[u]+'_lat30_amoc']=np.nanmax(globals()['pi_'+ lig_modelname[u]+'_lat30_amoc'])"
   ]
  },
  {
   "cell_type": "code",
   "execution_count": 22,
   "metadata": {},
   "outputs": [],
   "source": [
    "for u in (1,2,3,5,6,7,8):\n",
    "    globals()['pi_max_'+ lig_modelname[u]+'_lat50_amoc']=np.nanmax(globals()['pi_'+ lig_modelname[u]+'_lat50_amoc'])"
   ]
  },
  {
   "cell_type": "markdown",
   "metadata": {},
   "source": [
    "### for lig---acc, fgoalsg3, noresm2, because they all have coord: 'lat'"
   ]
  },
  {
   "cell_type": "code",
   "execution_count": 23,
   "metadata": {},
   "outputs": [],
   "source": [
    "for t in (0,4,8):  \n",
    "    globals()[lig_modelname[t]+'_lat30_amoc']=amoc_mean[t].sel(lat=30,method='nearest')"
   ]
  },
  {
   "cell_type": "code",
   "execution_count": 24,
   "metadata": {},
   "outputs": [],
   "source": [
    "for t in (0,4,8):  \n",
    "    globals()[lig_modelname[t]+'_lat50_amoc']=amoc_mean[t].sel(lat=50,method='nearest')"
   ]
  },
  {
   "cell_type": "code",
   "execution_count": 25,
   "metadata": {},
   "outputs": [],
   "source": [
    "for q in (0,4,8):\n",
    "    globals()['max_'+ lig_modelname[q]+'_lat30_amoc']=np.nanmax(globals()[lig_modelname[q]+'_lat30_amoc'])"
   ]
  },
  {
   "cell_type": "code",
   "execution_count": 26,
   "metadata": {},
   "outputs": [],
   "source": [
    "for q in (0,4,8):\n",
    "    globals()['max_'+ lig_modelname[q]+'_lat50_amoc']=np.nanmax(globals()[lig_modelname[q]+'_lat50_amoc'])"
   ]
  },
  {
   "cell_type": "markdown",
   "metadata": {},
   "source": [
    "### for lig--- ec, hadgem, beacause it has coord: 'rlat'"
   ]
  },
  {
   "cell_type": "code",
   "execution_count": 27,
   "metadata": {},
   "outputs": [],
   "source": [
    "for t in (2,6):  \n",
    "    globals()[lig_modelname[t]+'_lat30_amoc']=amoc_mean[t].sel(rlat=30,method='nearest')"
   ]
  },
  {
   "cell_type": "code",
   "execution_count": 28,
   "metadata": {},
   "outputs": [],
   "source": [
    "for t in (2,6):  #for ec & hadgem, beacause it has coord: 'rlat'\n",
    "    globals()[lig_modelname[t]+'_lat50_amoc']=amoc_mean[t].sel(rlat=50,method='nearest')"
   ]
  },
  {
   "cell_type": "code",
   "execution_count": 29,
   "metadata": {},
   "outputs": [],
   "source": [
    "for q in (2,6):\n",
    "    globals()['max_'+ lig_modelname[q]+'_lat30_amoc']=np.nanmax(globals()[lig_modelname[q]+'_lat30_amoc'])"
   ]
  },
  {
   "cell_type": "code",
   "execution_count": 30,
   "metadata": {},
   "outputs": [],
   "source": [
    "for q in (2,6):\n",
    "    globals()['max_'+ lig_modelname[q]+'_lat50_amoc']=np.nanmax(globals()[lig_modelname[q]+'_lat50_amoc'])"
   ]
  },
  {
   "cell_type": "markdown",
   "metadata": {},
   "source": [
    "### for pi--fgoalsg3, it has coord: 'lat'"
   ]
  },
  {
   "cell_type": "code",
   "execution_count": 31,
   "metadata": {},
   "outputs": [],
   "source": [
    "for n in range (4,5):\n",
    "    globals()['pi_'+ lig_modelname[n]+'_lat30_amoc']=pi_amoc_mean[n].sel(lat=30,method='nearest')"
   ]
  },
  {
   "cell_type": "code",
   "execution_count": 32,
   "metadata": {},
   "outputs": [],
   "source": [
    "for n in range (4,5):\n",
    "    globals()['pi_'+ lig_modelname[n]+'_lat50_amoc']=pi_amoc_mean[n].sel(lat=50,method='nearest')"
   ]
  },
  {
   "cell_type": "code",
   "execution_count": 33,
   "metadata": {},
   "outputs": [],
   "source": [
    "for u in range (4,5):\n",
    "    globals()['pi_max_'+ lig_modelname[u]+'_lat30_amoc']=np.nanmax(globals()['pi_'+ lig_modelname[u]+'_lat30_amoc'])"
   ]
  },
  {
   "cell_type": "code",
   "execution_count": 34,
   "metadata": {},
   "outputs": [],
   "source": [
    "for u in range (4,5):\n",
    "    globals()['pi_max_'+ lig_modelname[u]+'_lat50_amoc']=np.nanmax(globals()['pi_'+ lig_modelname[u]+'_lat50_amoc'])"
   ]
  },
  {
   "cell_type": "markdown",
   "metadata": {},
   "source": [
    "### for pi---acc, it has coord: 'rlat'"
   ]
  },
  {
   "cell_type": "code",
   "execution_count": 35,
   "metadata": {},
   "outputs": [],
   "source": [
    "for n in range (0,1):\n",
    "    globals()['pi_'+ lig_modelname[n]+'_lat30_amoc']=pi_amoc_mean[n].sel(rlat=30,method='nearest')"
   ]
  },
  {
   "cell_type": "code",
   "execution_count": 36,
   "metadata": {},
   "outputs": [],
   "source": [
    "for n in range (0,1):\n",
    "    globals()['pi_'+ lig_modelname[n]+'_lat50_amoc']=pi_amoc_mean[n].sel(rlat=50,method='nearest')"
   ]
  },
  {
   "cell_type": "code",
   "execution_count": 37,
   "metadata": {},
   "outputs": [],
   "source": [
    "for u in range (0,1):\n",
    "    globals()['pi_max_'+ lig_modelname[u]+'_lat30_amoc']=np.nanmax(globals()['pi_'+ lig_modelname[u]+'_lat30_amoc'])"
   ]
  },
  {
   "cell_type": "code",
   "execution_count": 38,
   "metadata": {},
   "outputs": [],
   "source": [
    "for u in range (0,1):\n",
    "    globals()['pi_max_'+ lig_modelname[u]+'_lat50_amoc']=np.nanmax(globals()['pi_'+ lig_modelname[u]+'_lat50_amoc'])"
   ]
  },
  {
   "cell_type": "markdown",
   "metadata": {},
   "source": [
    "## now, print out the maximum AMOC at 30/50N for lig/pi"
   ]
  },
  {
   "cell_type": "code",
   "execution_count": 39,
   "metadata": {},
   "outputs": [
    {
     "name": "stdout",
     "output_type": "stream",
     "text": [
      "[22.522636, 19.919022, 18.552629, 25.208239, 33.388175, 25.038485, 18.099319, 10.287145, 21.562294]\n"
     ]
    }
   ],
   "source": [
    "# print out the LIG max AMOC at 30N\n",
    "amoc_lig_30=[]\n",
    "\n",
    "for n in range (0,len(lig_modelname)):\n",
    "    if n in (1,3,5,7):\n",
    "        amoc_lig_30.append(globals()['max_'+ lig_modelname[n]+'_lat30_amoc'])\n",
    "    else:\n",
    "        amoc_lig_30.append(globals()['max_'+ lig_modelname[n]+'_lat30_amoc'] * 1e-9)   # convert the units, from kg/s to Sv\n",
    "\n",
    "# print out the value with 6 decimal places        \n",
    "Amoc_lig_30=[round(num, 6) for num in amoc_lig_30]\n",
    "print(Amoc_lig_30)\n",
    "\n",
    "# acc, cesm, ec, fgoalsf3, fgoalsg3, giss, hadgem, ipsl, noresm2"
   ]
  },
  {
   "cell_type": "code",
   "execution_count": 40,
   "metadata": {},
   "outputs": [
    {
     "name": "stdout",
     "output_type": "stream",
     "text": [
      "[19.515539, 19.105024, 14.982977, 23.945753, 32.806423, 24.397606, 16.976843, 12.129082, 21.176233]\n"
     ]
    }
   ],
   "source": [
    "# print out the pi max AMOC st 30N\n",
    "amoc_pi_30=[]\n",
    "for n in range (0,len(lig_modelname)):\n",
    "    if n in (1,2,3,5,6,7,8):\n",
    "        amoc_pi_30.append(globals()['pi_max_'+ lig_modelname[n]+'_lat30_amoc'])\n",
    "    else:\n",
    "        amoc_pi_30.append(globals()['pi_max_'+ lig_modelname[n]+'_lat30_amoc'] * 1e-9)    \n",
    "\n",
    "Amoc_pi_30=[round(num, 6) for num in amoc_pi_30]    \n",
    "print(Amoc_pi_30)\n",
    "\n",
    "# acc, cesm, ec, fgoalsf3, fgoalsg3, giss, hadgem, ipsl, noresm2"
   ]
  },
  {
   "cell_type": "code",
   "execution_count": 41,
   "metadata": {},
   "outputs": [
    {
     "name": "stdout",
     "output_type": "stream",
     "text": [
      "[3.007097, 0.813997, 3.569652, 1.262486, 0.581753, 0.640879, 1.122476, -1.841937, 0.386061]\n"
     ]
    }
   ],
   "source": [
    "# calculate the change of the maximum AMOC at 30N (LIG - PI) \n",
    "amoc_30_diff=[] \n",
    "for n in range (0, len(lig_modelname)):\n",
    "    amoc_30_diff.append (amoc_lig_30[n] - amoc_pi_30[n])\n",
    "\n",
    "Amoc_30_diff = [round(num, 6) for num in amoc_30_diff]\n",
    "print(Amoc_30_diff)\n",
    "\n",
    "# acc, cesm, ec, fgoalsf3, fgoalsg3, giss, hadgem, ipsl, noresm2"
   ]
  },
  {
   "cell_type": "code",
   "execution_count": 42,
   "metadata": {},
   "outputs": [
    {
     "name": "stdout",
     "output_type": "stream",
     "text": [
      "[21.572463, 17.03593, 15.479287, 21.844378, 34.203339, 15.705453, 13.768689, 8.935942, 13.811054]\n"
     ]
    }
   ],
   "source": [
    "# print out the LIG max AMOC at 50N\n",
    "amoc_lig_50=[]\n",
    "\n",
    "for n in range (0,len(lig_modelname)):\n",
    "    if n in (1,3,5,7):\n",
    "        amoc_lig_50.append(globals()['max_'+ lig_modelname[n]+'_lat50_amoc'])\n",
    "    else:\n",
    "        amoc_lig_50.append(globals()['max_'+ lig_modelname[n]+'_lat50_amoc'] * 1e-9)   # convert the units, from kg/s to Sv\n",
    "\n",
    "# print out the value with 6 decimal places        \n",
    "Amoc_lig_50=[round(num, 6) for num in amoc_lig_50]\n",
    "print(Amoc_lig_50)\n",
    "\n",
    "# acc, cesm, ec, fgoalsf3, fgoalsg3, giss, hadgem, ipsl, noresm2"
   ]
  },
  {
   "cell_type": "code",
   "execution_count": 43,
   "metadata": {},
   "outputs": [
    {
     "name": "stdout",
     "output_type": "stream",
     "text": [
      "[19.755065, 16.229677, 14.52121, 20.798315, 33.230043, 15.479198, 13.909647, 10.860806, 13.554823]\n"
     ]
    }
   ],
   "source": [
    "# print out the pi max AMOC st 50N\n",
    "amoc_pi_50=[]\n",
    "for n in range (0,len(lig_modelname)):\n",
    "    if n in (1,2,3,5,6,7,8):\n",
    "        amoc_pi_50.append(globals()['pi_max_'+ lig_modelname[n]+'_lat50_amoc'])\n",
    "    else:\n",
    "        amoc_pi_50.append(globals()['pi_max_'+ lig_modelname[n]+'_lat50_amoc'] * 1e-9)    \n",
    "\n",
    "Amoc_pi_50=[round(num, 6) for num in amoc_pi_50]    \n",
    "print(Amoc_pi_50)\n",
    "\n",
    "# acc, cesm, ec, fgoalsf3, fgoalsg3, giss, hadgem, ipsl, noresm2"
   ]
  },
  {
   "cell_type": "code",
   "execution_count": 44,
   "metadata": {},
   "outputs": [
    {
     "name": "stdout",
     "output_type": "stream",
     "text": [
      "[1.817397, 0.806253, 0.958077, 1.046061, 0.973296, 0.226255, -0.140958, -1.924864, 0.256231]\n"
     ]
    }
   ],
   "source": [
    "# calculate the change of the maximum AMOC at 50N (LIG - PI) \n",
    "amoc_50_diff=[] \n",
    "for n in range (0, len(lig_modelname)):\n",
    "    amoc_50_diff.append (amoc_lig_50[n] - amoc_pi_50[n])\n",
    "\n",
    "Amoc_50_diff = [round(num, 6) for num in amoc_50_diff]\n",
    "print(Amoc_50_diff)\n",
    "\n",
    "# acc, cesm, ec, fgoalsf3, fgoalsg3, giss, hadgem, ipsl, noresm2"
   ]
  },
  {
   "cell_type": "code",
   "execution_count": 45,
   "metadata": {
    "scrolled": true
   },
   "outputs": [
    {
     "data": {
      "text/html": [
       "<div>\n",
       "<style scoped>\n",
       "    .dataframe tbody tr th:only-of-type {\n",
       "        vertical-align: middle;\n",
       "    }\n",
       "\n",
       "    .dataframe tbody tr th {\n",
       "        vertical-align: top;\n",
       "    }\n",
       "\n",
       "    .dataframe thead th {\n",
       "        text-align: right;\n",
       "    }\n",
       "</style>\n",
       "<table border=\"1\" class=\"dataframe\">\n",
       "  <thead>\n",
       "    <tr style=\"text-align: right;\">\n",
       "      <th></th>\n",
       "      <th>model</th>\n",
       "      <th>number</th>\n",
       "      <th>ncl_R</th>\n",
       "      <th>ncl_G</th>\n",
       "      <th>ncl_B</th>\n",
       "      <th>ipcc_r</th>\n",
       "      <th>ipcc_g</th>\n",
       "      <th>ipcc_b</th>\n",
       "      <th>new_py_color</th>\n",
       "      <th>marker</th>\n",
       "      <th>linestyle</th>\n",
       "    </tr>\n",
       "  </thead>\n",
       "  <tbody>\n",
       "    <tr>\n",
       "      <th>0</th>\n",
       "      <td>ACCESS-ESM1-5</td>\n",
       "      <td>1</td>\n",
       "      <td>0</td>\n",
       "      <td>176</td>\n",
       "      <td>80</td>\n",
       "      <td>0.000000</td>\n",
       "      <td>0.690196</td>\n",
       "      <td>0.313725</td>\n",
       "      <td>red</td>\n",
       "      <td>o</td>\n",
       "      <td>solid</td>\n",
       "    </tr>\n",
       "    <tr>\n",
       "      <th>1</th>\n",
       "      <td>AWI-ESM-1-1-LR</td>\n",
       "      <td>2</td>\n",
       "      <td>153</td>\n",
       "      <td>0</td>\n",
       "      <td>255</td>\n",
       "      <td>0.600000</td>\n",
       "      <td>0.000000</td>\n",
       "      <td>1.000000</td>\n",
       "      <td>forestgreen</td>\n",
       "      <td>o</td>\n",
       "      <td>solid</td>\n",
       "    </tr>\n",
       "    <tr>\n",
       "      <th>2</th>\n",
       "      <td>AWI-ESM-2-1-LR</td>\n",
       "      <td>3</td>\n",
       "      <td>153</td>\n",
       "      <td>0</td>\n",
       "      <td>255</td>\n",
       "      <td>0.600000</td>\n",
       "      <td>0.000000</td>\n",
       "      <td>1.000000</td>\n",
       "      <td>gold</td>\n",
       "      <td>o</td>\n",
       "      <td>solid</td>\n",
       "    </tr>\n",
       "    <tr>\n",
       "      <th>3</th>\n",
       "      <td>CESM2</td>\n",
       "      <td>4</td>\n",
       "      <td>67</td>\n",
       "      <td>178</td>\n",
       "      <td>216</td>\n",
       "      <td>0.262745</td>\n",
       "      <td>0.698039</td>\n",
       "      <td>0.847059</td>\n",
       "      <td>mediumblue</td>\n",
       "      <td>o</td>\n",
       "      <td>solid</td>\n",
       "    </tr>\n",
       "    <tr>\n",
       "      <th>4</th>\n",
       "      <td>CNRM-CM6-1</td>\n",
       "      <td>5</td>\n",
       "      <td>145</td>\n",
       "      <td>214</td>\n",
       "      <td>126</td>\n",
       "      <td>0.568627</td>\n",
       "      <td>0.839216</td>\n",
       "      <td>0.494118</td>\n",
       "      <td>magenta</td>\n",
       "      <td>o</td>\n",
       "      <td>solid</td>\n",
       "    </tr>\n",
       "    <tr>\n",
       "      <th>5</th>\n",
       "      <td>EC-Earth3-LR</td>\n",
       "      <td>6</td>\n",
       "      <td>124</td>\n",
       "      <td>99</td>\n",
       "      <td>184</td>\n",
       "      <td>0.486275</td>\n",
       "      <td>0.388235</td>\n",
       "      <td>0.721569</td>\n",
       "      <td>turquoise</td>\n",
       "      <td>o</td>\n",
       "      <td>solid</td>\n",
       "    </tr>\n",
       "    <tr>\n",
       "      <th>6</th>\n",
       "      <td>FGOALS-f3-L</td>\n",
       "      <td>7</td>\n",
       "      <td>248</td>\n",
       "      <td>154</td>\n",
       "      <td>28</td>\n",
       "      <td>0.972549</td>\n",
       "      <td>0.603922</td>\n",
       "      <td>0.109804</td>\n",
       "      <td>red</td>\n",
       "      <td>^</td>\n",
       "      <td>dotted</td>\n",
       "    </tr>\n",
       "    <tr>\n",
       "      <th>7</th>\n",
       "      <td>FGOALS-g3</td>\n",
       "      <td>8</td>\n",
       "      <td>248</td>\n",
       "      <td>154</td>\n",
       "      <td>28</td>\n",
       "      <td>0.972549</td>\n",
       "      <td>0.603922</td>\n",
       "      <td>0.109804</td>\n",
       "      <td>forestgreen</td>\n",
       "      <td>^</td>\n",
       "      <td>dotted</td>\n",
       "    </tr>\n",
       "    <tr>\n",
       "      <th>8</th>\n",
       "      <td>GISS-E2-1-G</td>\n",
       "      <td>9</td>\n",
       "      <td>119</td>\n",
       "      <td>29</td>\n",
       "      <td>123</td>\n",
       "      <td>0.466667</td>\n",
       "      <td>0.113725</td>\n",
       "      <td>0.482353</td>\n",
       "      <td>gold</td>\n",
       "      <td>^</td>\n",
       "      <td>dotted</td>\n",
       "    </tr>\n",
       "    <tr>\n",
       "      <th>9</th>\n",
       "      <td>HadGEM3-GC31-LL</td>\n",
       "      <td>10</td>\n",
       "      <td>122</td>\n",
       "      <td>139</td>\n",
       "      <td>38</td>\n",
       "      <td>0.478431</td>\n",
       "      <td>0.545098</td>\n",
       "      <td>0.149020</td>\n",
       "      <td>mediumblue</td>\n",
       "      <td>^</td>\n",
       "      <td>dotted</td>\n",
       "    </tr>\n",
       "    <tr>\n",
       "      <th>10</th>\n",
       "      <td>INM-CM4-8</td>\n",
       "      <td>11</td>\n",
       "      <td>247</td>\n",
       "      <td>67</td>\n",
       "      <td>67</td>\n",
       "      <td>0.968627</td>\n",
       "      <td>0.262745</td>\n",
       "      <td>0.262745</td>\n",
       "      <td>magenta</td>\n",
       "      <td>^</td>\n",
       "      <td>dotted</td>\n",
       "    </tr>\n",
       "    <tr>\n",
       "      <th>11</th>\n",
       "      <td>IPSL-CM6A-LR</td>\n",
       "      <td>12</td>\n",
       "      <td>91</td>\n",
       "      <td>83</td>\n",
       "      <td>174</td>\n",
       "      <td>0.356863</td>\n",
       "      <td>0.325490</td>\n",
       "      <td>0.682353</td>\n",
       "      <td>turquoise</td>\n",
       "      <td>^</td>\n",
       "      <td>dotted</td>\n",
       "    </tr>\n",
       "    <tr>\n",
       "      <th>12</th>\n",
       "      <td>MIROC-ES2L</td>\n",
       "      <td>13</td>\n",
       "      <td>184</td>\n",
       "      <td>95</td>\n",
       "      <td>182</td>\n",
       "      <td>0.721569</td>\n",
       "      <td>0.372549</td>\n",
       "      <td>0.713725</td>\n",
       "      <td>red</td>\n",
       "      <td>s</td>\n",
       "      <td>dashed</td>\n",
       "    </tr>\n",
       "    <tr>\n",
       "      <th>13</th>\n",
       "      <td>MPI-ESM1-2-LR</td>\n",
       "      <td>14</td>\n",
       "      <td>93</td>\n",
       "      <td>161</td>\n",
       "      <td>162</td>\n",
       "      <td>0.364706</td>\n",
       "      <td>0.631373</td>\n",
       "      <td>0.635294</td>\n",
       "      <td>forestgreen</td>\n",
       "      <td>s</td>\n",
       "      <td>dashed</td>\n",
       "    </tr>\n",
       "    <tr>\n",
       "      <th>14</th>\n",
       "      <td>NESM3</td>\n",
       "      <td>15</td>\n",
       "      <td>174</td>\n",
       "      <td>170</td>\n",
       "      <td>170</td>\n",
       "      <td>0.682353</td>\n",
       "      <td>0.666667</td>\n",
       "      <td>0.666667</td>\n",
       "      <td>gold</td>\n",
       "      <td>s</td>\n",
       "      <td>dashed</td>\n",
       "    </tr>\n",
       "    <tr>\n",
       "      <th>15</th>\n",
       "      <td>NorESM1-F</td>\n",
       "      <td>16</td>\n",
       "      <td>241</td>\n",
       "      <td>58</td>\n",
       "      <td>167</td>\n",
       "      <td>0.945098</td>\n",
       "      <td>0.227451</td>\n",
       "      <td>0.654902</td>\n",
       "      <td>mediumblue</td>\n",
       "      <td>s</td>\n",
       "      <td>dashed</td>\n",
       "    </tr>\n",
       "    <tr>\n",
       "      <th>16</th>\n",
       "      <td>NorESM2-LM</td>\n",
       "      <td>17</td>\n",
       "      <td>241</td>\n",
       "      <td>58</td>\n",
       "      <td>167</td>\n",
       "      <td>0.945098</td>\n",
       "      <td>0.227451</td>\n",
       "      <td>0.654902</td>\n",
       "      <td>magenta</td>\n",
       "      <td>s</td>\n",
       "      <td>dashed</td>\n",
       "    </tr>\n",
       "  </tbody>\n",
       "</table>\n",
       "</div>"
      ],
      "text/plain": [
       "              model  number  ncl_R  ncl_G  ncl_B    ipcc_r    ipcc_g  \\\n",
       "0     ACCESS-ESM1-5       1      0    176     80  0.000000  0.690196   \n",
       "1    AWI-ESM-1-1-LR       2    153      0    255  0.600000  0.000000   \n",
       "2    AWI-ESM-2-1-LR       3    153      0    255  0.600000  0.000000   \n",
       "3             CESM2       4     67    178    216  0.262745  0.698039   \n",
       "4        CNRM-CM6-1       5    145    214    126  0.568627  0.839216   \n",
       "5      EC-Earth3-LR       6    124     99    184  0.486275  0.388235   \n",
       "6       FGOALS-f3-L       7    248    154     28  0.972549  0.603922   \n",
       "7         FGOALS-g3       8    248    154     28  0.972549  0.603922   \n",
       "8       GISS-E2-1-G       9    119     29    123  0.466667  0.113725   \n",
       "9   HadGEM3-GC31-LL      10    122    139     38  0.478431  0.545098   \n",
       "10        INM-CM4-8      11    247     67     67  0.968627  0.262745   \n",
       "11     IPSL-CM6A-LR      12     91     83    174  0.356863  0.325490   \n",
       "12       MIROC-ES2L      13    184     95    182  0.721569  0.372549   \n",
       "13    MPI-ESM1-2-LR      14     93    161    162  0.364706  0.631373   \n",
       "14            NESM3      15    174    170    170  0.682353  0.666667   \n",
       "15        NorESM1-F      16    241     58    167  0.945098  0.227451   \n",
       "16       NorESM2-LM      17    241     58    167  0.945098  0.227451   \n",
       "\n",
       "      ipcc_b new_py_color marker linestyle  \n",
       "0   0.313725          red      o     solid  \n",
       "1   1.000000  forestgreen      o     solid  \n",
       "2   1.000000         gold      o     solid  \n",
       "3   0.847059   mediumblue      o     solid  \n",
       "4   0.494118      magenta      o     solid  \n",
       "5   0.721569    turquoise      o     solid  \n",
       "6   0.109804          red      ^    dotted  \n",
       "7   0.109804  forestgreen      ^    dotted  \n",
       "8   0.482353         gold      ^    dotted  \n",
       "9   0.149020   mediumblue      ^    dotted  \n",
       "10  0.262745      magenta      ^    dotted  \n",
       "11  0.682353    turquoise      ^    dotted  \n",
       "12  0.713725          red      s    dashed  \n",
       "13  0.635294  forestgreen      s    dashed  \n",
       "14  0.666667         gold      s    dashed  \n",
       "15  0.654902   mediumblue      s    dashed  \n",
       "16  0.654902      magenta      s    dashed  "
      ]
     },
     "execution_count": 45,
     "metadata": {},
     "output_type": "execute_result"
    }
   ],
   "source": [
    "df= pd.read_csv('PMIP4_lig127k_modellist.csv',skipinitialspace=True,header=0)\n",
    "df"
   ]
  },
  {
   "cell_type": "code",
   "execution_count": 48,
   "metadata": {},
   "outputs": [
    {
     "data": {
      "text/html": [
       "<div>\n",
       "<style scoped>\n",
       "    .dataframe tbody tr th:only-of-type {\n",
       "        vertical-align: middle;\n",
       "    }\n",
       "\n",
       "    .dataframe tbody tr th {\n",
       "        vertical-align: top;\n",
       "    }\n",
       "\n",
       "    .dataframe thead th {\n",
       "        text-align: right;\n",
       "    }\n",
       "</style>\n",
       "<table border=\"1\" class=\"dataframe\">\n",
       "  <thead>\n",
       "    <tr style=\"text-align: right;\">\n",
       "      <th></th>\n",
       "      <th>model</th>\n",
       "      <th>number</th>\n",
       "      <th>ncl_R</th>\n",
       "      <th>ncl_G</th>\n",
       "      <th>ncl_B</th>\n",
       "      <th>ipcc_r</th>\n",
       "      <th>ipcc_g</th>\n",
       "      <th>ipcc_b</th>\n",
       "      <th>new_py_color</th>\n",
       "      <th>marker</th>\n",
       "      <th>linestyle</th>\n",
       "    </tr>\n",
       "  </thead>\n",
       "  <tbody>\n",
       "    <tr>\n",
       "      <th>0</th>\n",
       "      <td>ACCESS-ESM1-5</td>\n",
       "      <td>1</td>\n",
       "      <td>0</td>\n",
       "      <td>176</td>\n",
       "      <td>80</td>\n",
       "      <td>0</td>\n",
       "      <td>0.690196078</td>\n",
       "      <td>0.31372549</td>\n",
       "      <td>red</td>\n",
       "      <td>o</td>\n",
       "      <td>solid</td>\n",
       "    </tr>\n",
       "    <tr>\n",
       "      <th>1</th>\n",
       "      <td>CESM2</td>\n",
       "      <td>4</td>\n",
       "      <td>67</td>\n",
       "      <td>178</td>\n",
       "      <td>216</td>\n",
       "      <td>0.262745098</td>\n",
       "      <td>0.698039216</td>\n",
       "      <td>0.847058824</td>\n",
       "      <td>mediumblue</td>\n",
       "      <td>o</td>\n",
       "      <td>solid</td>\n",
       "    </tr>\n",
       "    <tr>\n",
       "      <th>2</th>\n",
       "      <td>EC-Earth3-LR</td>\n",
       "      <td>6</td>\n",
       "      <td>124</td>\n",
       "      <td>99</td>\n",
       "      <td>184</td>\n",
       "      <td>0.48627451</td>\n",
       "      <td>0.388235294</td>\n",
       "      <td>0.721568627</td>\n",
       "      <td>turquoise</td>\n",
       "      <td>o</td>\n",
       "      <td>solid</td>\n",
       "    </tr>\n",
       "    <tr>\n",
       "      <th>3</th>\n",
       "      <td>FGOALS-f3-L</td>\n",
       "      <td>7</td>\n",
       "      <td>248</td>\n",
       "      <td>154</td>\n",
       "      <td>28</td>\n",
       "      <td>0.97254902</td>\n",
       "      <td>0.603921569</td>\n",
       "      <td>0.109803922</td>\n",
       "      <td>red</td>\n",
       "      <td>^</td>\n",
       "      <td>dotted</td>\n",
       "    </tr>\n",
       "    <tr>\n",
       "      <th>4</th>\n",
       "      <td>FGOALS-g3</td>\n",
       "      <td>8</td>\n",
       "      <td>248</td>\n",
       "      <td>154</td>\n",
       "      <td>28</td>\n",
       "      <td>0.97254902</td>\n",
       "      <td>0.603921569</td>\n",
       "      <td>0.109803922</td>\n",
       "      <td>forestgreen</td>\n",
       "      <td>^</td>\n",
       "      <td>dotted</td>\n",
       "    </tr>\n",
       "    <tr>\n",
       "      <th>5</th>\n",
       "      <td>GISS-E2-1-G</td>\n",
       "      <td>9</td>\n",
       "      <td>119</td>\n",
       "      <td>29</td>\n",
       "      <td>123</td>\n",
       "      <td>0.466666667</td>\n",
       "      <td>0.11372549</td>\n",
       "      <td>0.482352941</td>\n",
       "      <td>gold</td>\n",
       "      <td>^</td>\n",
       "      <td>dotted</td>\n",
       "    </tr>\n",
       "    <tr>\n",
       "      <th>6</th>\n",
       "      <td>HadGEM3-GC31-LL</td>\n",
       "      <td>10</td>\n",
       "      <td>122</td>\n",
       "      <td>139</td>\n",
       "      <td>38</td>\n",
       "      <td>0.478431373</td>\n",
       "      <td>0.545098039</td>\n",
       "      <td>0.149019608</td>\n",
       "      <td>mediumblue</td>\n",
       "      <td>^</td>\n",
       "      <td>dotted</td>\n",
       "    </tr>\n",
       "    <tr>\n",
       "      <th>7</th>\n",
       "      <td>IPSL-CM6A-LR</td>\n",
       "      <td>12</td>\n",
       "      <td>91</td>\n",
       "      <td>83</td>\n",
       "      <td>174</td>\n",
       "      <td>0.356862745</td>\n",
       "      <td>0.325490196</td>\n",
       "      <td>0.682352941</td>\n",
       "      <td>turquoise</td>\n",
       "      <td>^</td>\n",
       "      <td>dotted</td>\n",
       "    </tr>\n",
       "    <tr>\n",
       "      <th>8</th>\n",
       "      <td>NorESM2-LM</td>\n",
       "      <td>17</td>\n",
       "      <td>241</td>\n",
       "      <td>58</td>\n",
       "      <td>167</td>\n",
       "      <td>0.945098039</td>\n",
       "      <td>0.22745098</td>\n",
       "      <td>0.654901961</td>\n",
       "      <td>magenta</td>\n",
       "      <td>s</td>\n",
       "      <td>dashed</td>\n",
       "    </tr>\n",
       "  </tbody>\n",
       "</table>\n",
       "</div>"
      ],
      "text/plain": [
       "             model number ncl_R ncl_G ncl_B       ipcc_r       ipcc_g  \\\n",
       "0    ACCESS-ESM1-5      1     0   176    80            0  0.690196078   \n",
       "1            CESM2      4    67   178   216  0.262745098  0.698039216   \n",
       "2     EC-Earth3-LR      6   124    99   184   0.48627451  0.388235294   \n",
       "3      FGOALS-f3-L      7   248   154    28   0.97254902  0.603921569   \n",
       "4        FGOALS-g3      8   248   154    28   0.97254902  0.603921569   \n",
       "5      GISS-E2-1-G      9   119    29   123  0.466666667   0.11372549   \n",
       "6  HadGEM3-GC31-LL     10   122   139    38  0.478431373  0.545098039   \n",
       "7     IPSL-CM6A-LR     12    91    83   174  0.356862745  0.325490196   \n",
       "8       NorESM2-LM     17   241    58   167  0.945098039   0.22745098   \n",
       "\n",
       "        ipcc_b new_py_color marker linestyle  \n",
       "0   0.31372549          red      o     solid  \n",
       "1  0.847058824   mediumblue      o     solid  \n",
       "2  0.721568627    turquoise      o     solid  \n",
       "3  0.109803922          red      ^    dotted  \n",
       "4  0.109803922  forestgreen      ^    dotted  \n",
       "5  0.482352941         gold      ^    dotted  \n",
       "6  0.149019608   mediumblue      ^    dotted  \n",
       "7  0.682352941    turquoise      ^    dotted  \n",
       "8  0.654901961      magenta      s    dashed  "
      ]
     },
     "execution_count": 48,
     "metadata": {},
     "output_type": "execute_result"
    }
   ],
   "source": [
    "# select the model that I need \n",
    "import csv\n",
    "\n",
    "DESIRED_ROWS = {1,4,6,7,8,9,10,12,17}\n",
    "with open(\"PMIP4_lig127k_modellist.csv\") as input_file:\n",
    "    reader = csv.reader(input_file)\n",
    "\n",
    "    desired_rows = [row for row_number, row in enumerate(reader)\n",
    "                    if row_number in DESIRED_ROWS]\n",
    "\n",
    "df_sel = pd.DataFrame(desired_rows,columns=['model','number','ncl_R','ncl_G','ncl_B','ipcc_r','ipcc_g','ipcc_b','new_py_color','marker','linestyle'])\n",
    "df_sel"
   ]
  },
  {
   "cell_type": "code",
   "execution_count": 49,
   "metadata": {},
   "outputs": [],
   "source": [
    "#save the selected model info to a new CSV file \n",
    "# in order to use the new file for colour info\n",
    "df_sel.to_csv('PMIP4_lig127k_mymodel.csv')"
   ]
  },
  {
   "cell_type": "code",
   "execution_count": 46,
   "metadata": {},
   "outputs": [],
   "source": [
    "# need change\n",
    "lig_model_name=['ACCESS-ESM1-5','CESM2','EC-Earth3-LR','FGOALS-f3-L',\n",
    "                'FGOALS-g3','GISS-E2-1-G','HadGEM3-GC31-LL',\n",
    "                'IPSL-CM6A-LR', 'NorESM2-LM']"
   ]
  },
  {
   "cell_type": "code",
   "execution_count": 50,
   "metadata": {},
   "outputs": [],
   "source": [
    "pmip4_r=pd.read_csv('PMIP4_lig127k_mymodel.csv',skipinitialspace=True,header=0)['ipcc_r']\n",
    "pmip4_g=pd.read_csv('PMIP4_lig127k_mymodel.csv',skipinitialspace=True,header=0)['ipcc_g']\n",
    "pmip4_b=pd.read_csv('PMIP4_lig127k_mymodel.csv',skipinitialspace=True,header=0)['ipcc_b']"
   ]
  },
  {
   "cell_type": "code",
   "execution_count": 51,
   "metadata": {},
   "outputs": [
    {
     "data": {
      "text/plain": [
       "[Text(0.5, 1.0, 'AMOC at 30N & 50N in simulations (LIG and PI)')]"
      ]
     },
     "execution_count": 51,
     "metadata": {},
     "output_type": "execute_result"
    },
    {
     "data": {
      "image/png": "[encoded data removed]",
      "text/plain": [
       "<Figure size 720x720 with 1 Axes>"
      ]
     },
     "metadata": {
      "needs_background": "light"
     },
     "output_type": "display_data"
    }
   ],
   "source": [
    "fig=plt.figure(figsize=(10,10)) \n",
    "\n",
    "ax=fig.add_subplot(111)\n",
    "\n",
    "ax.scatter(0,0,color='k',marker='o',label='PMIP4-30N',s=100)\n",
    "ax.scatter(0,0,color='k',marker='^',label='PMIP4-50N',s=100)\n",
    "    \n",
    "\n",
    "for k in range (0,len(lig_modelname)):\n",
    "    ax.scatter(amoc_pi_30[k], amoc_lig_30[k], label=lig_model_name[k], color=(pmip4_r[k],pmip4_g[k],pmip4_b[k]), marker='o', s=100)\n",
    "    ax.scatter(amoc_pi_50[k], amoc_lig_50[k], color=(pmip4_r[k],pmip4_g[k],pmip4_b[k]), marker='^', s=100)\n",
    "\n",
    "    \n",
    "#Y1=[5,5]\n",
    "#Y2=[30,30]\n",
    "#X1=[14,15.8]\n",
    "#X2=[16.3,17.3]#overlap RAPID 16.8+/-0.5\n",
    "\n",
    "X1=np.linspace(14,15.8,100) #OSNAP:14.9+/-0.9 Sv\n",
    "X2=np.linspace(16.3,17.3,100) #overlap RAPID 16.8+/-0.5\n",
    "Y1=5\n",
    "Y2=35\n",
    "ax.axvline(x=16.8,color='pink',linestyle=\"--\",linewidth=1.5)\n",
    "ax.fill_between(X2,Y1,Y2,facecolor='pink', alpha=0.2, label='RAPID') # define the range for x-axis, then define the range for y-axis (upper & bottom)\n",
    "ax.axvline(x=14.9,color='lightgreen',linestyle=\"--\",linewidth=1.5)\n",
    "ax.fill_between(X1,Y1,Y2,facecolor='lightgreen', alpha=0.2, label='OSNAP')\n",
    "    \n",
    "x=np.linspace(5,35,100)\n",
    "y=x\n",
    "ax.plot(x,y,'--',linewidth=1, color='r',label='1:1 line')\n",
    "ax.plot(x,0.95*y, '--',linewidth=0.5, color='black')\n",
    "ax.plot(x,1.05*y, '--',linewidth=0.5, color='black')\n",
    "ax.fill_between(x, 0.95*y, 1.05*y, color='grey', alpha=0.15, label='0.95~1.05 shading')\n",
    "ax.set(xlabel='PI AMOC(Sv)',ylabel='LIG AMOC(Sv)')\n",
    "ax.set_xlim(5,35)\n",
    "ax.set_ylim(5,35)\n",
    "ax.xaxis.set_major_locator(MultipleLocator(2.5))\n",
    "ax.yaxis.set_major_locator(MultipleLocator(2.5))\n",
    "ax.legend(loc='lower right',ncol=2, edgecolor='None',facecolor='None')\n",
    "ax.set(title='AMOC at 30N & 50N in simulations (LIG and PI)')\n",
    "\n",
    "# fgoalsg3 AMOC >30 Sv"
   ]
  },
  {
   "cell_type": "code",
   "execution_count": null,
   "metadata": {},
   "outputs": [],
   "source": []
  }
 ],
 "metadata": {
  "kernelspec": {
   "display_name": "Python 3 (ipykernel)",
   "language": "python",
   "name": "python3"
  },
  "language_info": {
   "codemirror_mode": {
    "name": "ipython",
    "version": 3
   },
   "file_extension": ".py",
   "mimetype": "text/x-python",
   "name": "python",
   "nbconvert_exporter": "python",
   "pygments_lexer": "ipython3",
   "version": "3.10.5"
  }
 },
 "nbformat": 4,
 "nbformat_minor": 4
}
