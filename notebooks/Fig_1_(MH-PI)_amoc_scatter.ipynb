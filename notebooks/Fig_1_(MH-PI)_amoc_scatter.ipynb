{
 "cells": [
  {
   "cell_type": "code",
   "execution_count": 2,
   "metadata": {},
   "outputs": [],
   "source": [
    "import xarray as xr\n",
    "import matplotlib.pyplot as plt\n",
    "import numpy as np\n",
    "import pandas as pd\n",
    "\n",
    "import cartopy\n",
    "import cartopy.crs as ccrs\n",
    "import matplotlib\n",
    "%matplotlib inline\n",
    "from netCDF4 import Dataset\n",
    "\n",
    "\n",
    "import iris\n",
    "import iris.plot as iplt\n",
    "import iris.quickplot as qplt\n",
    "import matplotlib.colors as colors\n",
    "from sklearn import datasets\n",
    "import iris.analysis\n",
    "import numpy.ma as ma\n",
    "\n",
    "import matplotlib.ticker as mticker\n",
    "from matplotlib.ticker import MultipleLocator\n",
    "from cartopy.mpl.gridliner import LONGITUDE_FORMATTER, LATITUDE_FORMATTER\n",
    "from cartopy.util import add_cyclic_point\n",
    "\n",
    "\n",
    "\n",
    "import matplotlib.cm as mpl_cm\n",
    "from matplotlib.collections import LineCollection\n",
    "from matplotlib.colors import ListedColormap, BoundaryNorm\n",
    "from matplotlib.pyplot import xcorr\n",
    "\n",
    "\n",
    "from scipy.interpolate import splrep, splev\n",
    "from scipy.stats import pearsonr\n",
    "from scipy import signal \n",
    "\n",
    "import math\n",
    "from matplotlib import mlab\n",
    "\n",
    "import warnings\n",
    "warnings.filterwarnings(\"ignore\")"
   ]
  },
  {
   "cell_type": "markdown",
   "metadata": {},
   "source": [
    "## PMIP3 30&50N MH/PI AMOC scatter plot"
   ]
  },
  {
   "cell_type": "code",
   "execution_count": 3,
   "metadata": {},
   "outputs": [],
   "source": [
    "filename_1='CCSM4_midHolocene.cvdp_data.1000-1300.nc'\n",
    "ccsm=xr.open_dataset(filename_1,decode_times=False)\n",
    "\n",
    "filename_2='CCSM4_piControl.cvdp_data.250-1300.nc'\n",
    "pi_ccsm=xr.open_dataset(filename_2,decode_times=False)\n",
    "\n",
    "filename_7='FGOALS-g2_midHolocene.cvdp_data.340-1019.nc'\n",
    "fgoalsg2=xr.open_dataset(filename_7,decode_times=False)\n",
    "\n",
    "filename_8='FGOALS-g2_piControl.cvdp_data.201-900.nc'\n",
    "pi_fgoalsg2=xr.open_dataset(filename_8,decode_times=False)\n",
    "\n",
    "filename_25='MPI-ESM-P_midHolocene.cvdp_data.1850-1949.nc'\n",
    "mpip=xr.open_dataset(filename_25,decode_times=False)\n",
    "\n",
    "filename_26='MPI-ESM-P_piControl.cvdp_data.1850-3005.nc'\n",
    "pi_mpip=xr.open_dataset(filename_26,decode_times=False)\n",
    "\n",
    "\n",
    "filename_27='MRI-CGCM3_midHolocene.cvdp_data.1951-2050.nc'\n",
    "mri3=xr.open_dataset(filename_27,decode_times=False)\n",
    "\n",
    "filename_28='MRI-CGCM3_piControl.cvdp_data.1851-2350.nc'\n",
    "pi_mri3=xr.open_dataset(filename_28,decode_times=False)\n"
   ]
  },
  {
   "cell_type": "code",
   "execution_count": 4,
   "metadata": {},
   "outputs": [],
   "source": [
    "ccsm_amoc_mean=ccsm.amoc_mean_ann\n",
    "pi_ccsm_amoc_mean=pi_ccsm.amoc_mean_ann\n",
    "\n",
    "fgoalsg2_amoc_mean=fgoalsg2.amoc_mean_ann\n",
    "pi_fgoalsg2_amoc_mean=pi_fgoalsg2.amoc_mean_ann\n",
    "\n",
    "mpip_amoc_mean=mpip.amoc_mean_ann\n",
    "pi_mpip_amoc_mean=pi_mpip.amoc_mean_ann\n",
    "\n",
    "mri3_amoc_mean=mri3.amoc_mean_ann\n",
    "pi_mri3_amoc_mean=pi_mri3.amoc_mean_ann"
   ]
  },
  {
   "cell_type": "code",
   "execution_count": 5,
   "metadata": {},
   "outputs": [],
   "source": [
    "amoc_mean=[ccsm_amoc_mean, fgoalsg2_amoc_mean, mpip_amoc_mean, mri3_amoc_mean]"
   ]
  },
  {
   "cell_type": "code",
   "execution_count": 6,
   "metadata": {},
   "outputs": [],
   "source": [
    "pi_amoc_mean=[pi_ccsm_amoc_mean, pi_fgoalsg2_amoc_mean, pi_mpip_amoc_mean, pi_mri3_amoc_mean]"
   ]
  },
  {
   "cell_type": "code",
   "execution_count": 7,
   "metadata": {},
   "outputs": [],
   "source": [
    "pmip3_modelname=['ccsm','fgoalsg2','mpip','mri3']"
   ]
  },
  {
   "cell_type": "code",
   "execution_count": 8,
   "metadata": {},
   "outputs": [],
   "source": [
    "for n in range (0,len(pmip3_modelname)):\n",
    "    globals()[pmip3_modelname[n]+'_lat30_amoc']=amoc_mean[n].sel(lat_amoc=30,method='nearest')"
   ]
  },
  {
   "cell_type": "code",
   "execution_count": 9,
   "metadata": {},
   "outputs": [],
   "source": [
    "for n in range (0,len(pmip3_modelname)):\n",
    "    globals()[pmip3_modelname[n]+'_lat50_amoc']=amoc_mean[n].sel(lat_amoc=50,method='nearest')"
   ]
  },
  {
   "cell_type": "code",
   "execution_count": 10,
   "metadata": {},
   "outputs": [],
   "source": [
    "for n in range (0,len(pmip3_modelname)):\n",
    "    globals()['pi_'+ pmip3_modelname[n]+'_lat30_amoc']=pi_amoc_mean[n].sel(lat_amoc=30,method='nearest')"
   ]
  },
  {
   "cell_type": "code",
   "execution_count": 11,
   "metadata": {},
   "outputs": [],
   "source": [
    "for n in range (0,len(pmip3_modelname)):\n",
    "    globals()['pi_'+ pmip3_modelname[n]+'_lat50_amoc']=pi_amoc_mean[n].sel(lat_amoc=50,method='nearest')"
   ]
  },
  {
   "cell_type": "code",
   "execution_count": 12,
   "metadata": {},
   "outputs": [],
   "source": [
    "for u in range (0,len(pmip3_modelname)):\n",
    "    globals()['max_'+ pmip3_modelname[u]+'_lat30_amoc']=np.nanmax(globals()[pmip3_modelname[u]+'_lat30_amoc'])"
   ]
  },
  {
   "cell_type": "code",
   "execution_count": 13,
   "metadata": {},
   "outputs": [],
   "source": [
    "for u in range (0,len(pmip3_modelname)):\n",
    "    globals()['max_'+ pmip3_modelname[u]+'_lat50_amoc']=np.nanmax(globals()[pmip3_modelname[u]+'_lat50_amoc'])"
   ]
  },
  {
   "cell_type": "code",
   "execution_count": 14,
   "metadata": {},
   "outputs": [],
   "source": [
    "for u in range (0,len(pmip3_modelname)):\n",
    "    globals()['pi_max_'+ pmip3_modelname[u]+'_lat30_amoc']=np.nanmax(globals()['pi_'+ pmip3_modelname[u]+'_lat30_amoc'])"
   ]
  },
  {
   "cell_type": "code",
   "execution_count": 15,
   "metadata": {},
   "outputs": [],
   "source": [
    "for u in range (0,len(pmip3_modelname)):\n",
    "    globals()['pi_max_'+ pmip3_modelname[u]+'_lat50_amoc']=np.nanmax(globals()['pi_'+ pmip3_modelname[u]+'_lat50_amoc'])"
   ]
  },
  {
   "cell_type": "code",
   "execution_count": 16,
   "metadata": {},
   "outputs": [
    {
     "name": "stdout",
     "output_type": "stream",
     "text": [
      "[20.233278, 22.7345, 20.000252, 15.517204]\n"
     ]
    }
   ],
   "source": [
    "# print out the MH max AMOC st 30N\n",
    "amoc_mh_30=[]\n",
    "for n in range (0,len(pmip3_modelname)):\n",
    "    amoc_mh_30.append(globals()['max_'+ pmip3_modelname[n]+'_lat30_amoc'])\n",
    "print(amoc_mh_30)"
   ]
  },
  {
   "cell_type": "code",
   "execution_count": 17,
   "metadata": {},
   "outputs": [
    {
     "name": "stdout",
     "output_type": "stream",
     "text": [
      "[20.486813, 23.108734, 19.40197, 14.64762]\n"
     ]
    }
   ],
   "source": [
    "# print out the pi max AMOC st 30N\n",
    "amoc_pi_30=[]\n",
    "for n in range (0,len(pmip3_modelname)):\n",
    "    amoc_pi_30.append(globals()['pi_max_'+ pmip3_modelname[n]+'_lat30_amoc'])\n",
    "print(amoc_pi_30)"
   ]
  },
  {
   "cell_type": "code",
   "execution_count": 18,
   "metadata": {},
   "outputs": [
    {
     "name": "stdout",
     "output_type": "stream",
     "text": [
      "[-0.25353432, -0.37423325, 0.59828186, 0.8695841]\n"
     ]
    }
   ],
   "source": [
    "# calculate the change of the maximum AMOC at 30N (MH - PI) \n",
    "amoc_30_diff=[]\n",
    "for u in range (0,len(pmip3_modelname)):\n",
    "    amoc_30_diff.append(globals()['max_'+ pmip3_modelname[u]+'_lat30_amoc'] - globals()['pi_max_'+ pmip3_modelname[u]+'_lat30_amoc'])\n",
    "print(amoc_30_diff)\n",
    "\n",
    "# 'ccsm','fgoalsg2','mpip','mri3'"
   ]
  },
  {
   "cell_type": "code",
   "execution_count": 19,
   "metadata": {},
   "outputs": [
    {
     "name": "stdout",
     "output_type": "stream",
     "text": [
      "[15.773216, 18.024992, 16.358164, 14.559904]\n"
     ]
    }
   ],
   "source": [
    "# print out the MH max AMOC st 50N\n",
    "amoc_mh_50=[]\n",
    "for n in range (0,len(pmip3_modelname)):\n",
    "    amoc_mh_50.append(globals()['max_'+ pmip3_modelname[n]+'_lat50_amoc'])\n",
    "print(amoc_mh_50)"
   ]
  },
  {
   "cell_type": "code",
   "execution_count": 20,
   "metadata": {},
   "outputs": [
    {
     "name": "stdout",
     "output_type": "stream",
     "text": [
      "[16.254234, 18.318829, 16.17277, 13.765188]\n"
     ]
    }
   ],
   "source": [
    "# print out the pi max AMOC st 50N\n",
    "amoc_pi_50=[]\n",
    "for n in range (0,len(pmip3_modelname)):\n",
    "    amoc_pi_50.append(globals()['pi_max_'+ pmip3_modelname[n]+'_lat50_amoc'])\n",
    "print(amoc_pi_50)"
   ]
  },
  {
   "cell_type": "code",
   "execution_count": 21,
   "metadata": {},
   "outputs": [
    {
     "name": "stdout",
     "output_type": "stream",
     "text": [
      "[-0.48101807, -0.2938366, 0.18539429, 0.7947159]\n"
     ]
    }
   ],
   "source": [
    "# calculate the change of the maximum AMOC at 50N (MH - PI) \n",
    "amoc_50_diff=[]\n",
    "for u in range (0,len(pmip3_modelname)):\n",
    "    amoc_50_diff.append(globals()['max_'+ pmip3_modelname[u]+'_lat50_amoc'] - globals()['pi_max_'+ pmip3_modelname[u]+'_lat50_amoc'])\n",
    "print(amoc_50_diff)\n",
    "\n",
    "# 'ccsm','fgoalsg2','mpip','mri3'"
   ]
  },
  {
   "cell_type": "markdown",
   "metadata": {},
   "source": [
    "## PMIP4 30&50N MH/PI AMOC scatter plot"
   ]
  },
  {
   "cell_type": "code",
   "execution_count": 22,
   "metadata": {},
   "outputs": [],
   "source": [
    "filename_3='CESM2_midHolocene.cvdp_data.1-700.nc'\n",
    "cesm=xr.open_dataset(filename_3,decode_times=False)\n",
    "\n",
    "filename_4='CESM2_piControl.cvdp_data.701-1200.nc'\n",
    "pi_cesm=xr.open_dataset(filename_4,decode_times=False)\n",
    "\n",
    "filename_5='EC-Earth3-LR_midHolocene.cvdp_data.2245-2445.nc'\n",
    "ec=xr.open_dataset(filename_5,decode_times=False)\n",
    "\n",
    "filename_6='EC-Earth3-LR_piControl.cvdp_data.2219-2419.nc'\n",
    "pi_ec=xr.open_dataset(filename_6,decode_times=False)\n",
    "\n",
    "filename_31='FGOALS-f3-L_midHolocene.cvdp_data.1020-1219.nc'\n",
    "fgoalsf3=xr.open_dataset(filename_31,decode_times=False)\n",
    "\n",
    "filename_32='FGOALS-f3-L_piCtl-substitute.cvdp_data.1850-1899.nc'\n",
    "pi_fgoalsf3=xr.open_dataset(filename_32,decode_times=False)\n",
    "\n",
    "filename_11='GISS-E2-1-G_midHolocene.cvdp_data.2900-2999.nc'\n",
    "giss=xr.open_dataset(filename_11,decode_times=False)\n",
    "\n",
    "filename_12='GISS-E2-1-G_piControl.cvdp_data.4150-5000.nc'\n",
    "pi_giss=xr.open_dataset(filename_12,decode_times=False)\n",
    "\n",
    "filename_13='HadGEM3-GC31-LL_midHolocene.cvdp_data.2250-2349.nc'\n",
    "hadgem=xr.open_dataset(filename_13,decode_times=False)\n",
    "\n",
    "filename_14='HadGEM3-GC31-LL_piControl.cvdp_data.2250-2349.nc'\n",
    "pi_hadgem=xr.open_dataset(filename_14,decode_times=False)\n",
    "\n",
    "filename_15='INM-CM4-8_midHolocene.cvdp_data.1880-2079.nc'\n",
    "inm=xr.open_dataset(filename_15,decode_times=False)\n",
    "\n",
    "filename_16='INM-CM4-8_piControl.cvdp_data.1850-2380.nc'\n",
    "pi_inm=xr.open_dataset(filename_16,decode_times=False)\n",
    "\n",
    "filename_17='IPSL-CM6A-LR_midHolocene.cvdp_data.1850-2399.nc'\n",
    "ipsl=xr.open_dataset(filename_17,decode_times=False)\n",
    "\n",
    "filename_18='IPSL-CM6A-LR_piControl.cvdp_data.1850-3049.nc'\n",
    "pi_ipsl=xr.open_dataset(filename_18,decode_times=False)\n",
    "\n",
    "filename_21='MPI-ESM1-2-LR_midHolocene.cvdp_data.1001-1500.nc'\n",
    "mpi2=xr.open_dataset(filename_21,decode_times=False)\n",
    "\n",
    "filename_22='MPI-ESM1-2-LR_piControl.cvdp_data.1850-2849.nc'\n",
    "pi_mpi2=xr.open_dataset(filename_22,decode_times=False)\n",
    "\n",
    "filename_23='MRI-ESM2-0_midHolocene.cvdp_data.1951-2150.nc'\n",
    "mri=xr.open_dataset(filename_23,decode_times=False)\n",
    "\n",
    "filename_24='MRI-ESM2-0_piControl.cvdp_data.1850-2550.nc'\n",
    "pi_mri=xr.open_dataset(filename_24,decode_times=False)\n",
    "\n",
    "filename_29='NorESM2-LM_midHolocene.cvdp_data.2101-2200.nc'\n",
    "noresm2=xr.open_dataset(filename_29,decode_times=False)\n",
    "\n",
    "filename_30='NorESM2-LM_piControl.cvdp_data.1710-2100.nc'\n",
    "pi_noresm2=xr.open_dataset(filename_30,decode_times=False)\n"
   ]
  },
  {
   "cell_type": "code",
   "execution_count": 23,
   "metadata": {},
   "outputs": [],
   "source": [
    "# add the fgoalsg3 model\n",
    "filename_66='../../../Desktop/esgf_data_folder/streamfunction/mh_fgoalsg3_combined.nc'\n",
    "fgoalsg3=xr.open_dataset(filename_66,decode_times=False)\n",
    "\n",
    "filename_64='../../../Desktop/esgf_data_folder/streamfunction/pi_fgoalsg3_combined.nc'\n",
    "pi_fgoalsg3=xr.open_dataset(filename_64,decode_times=False)"
   ]
  },
  {
   "cell_type": "code",
   "execution_count": 24,
   "metadata": {},
   "outputs": [],
   "source": [
    "cesm_amoc_mean=cesm.amoc_mean_ann\n",
    "pi_cesm_amoc_mean=pi_cesm.amoc_mean_ann\n",
    "\n",
    "ec_amoc_mean=ec.amoc_mean_ann\n",
    "pi_ec_amoc_mean=pi_ec.amoc_mean_ann\n",
    "\n",
    "fgoalsf3_amoc_mean=fgoalsf3.amoc_mean_ann\n",
    "pi_fgoalsf3_amoc_mean=pi_fgoalsf3.amoc_mean_ann\n",
    "\n",
    "giss_amoc_mean=giss.amoc_mean_ann\n",
    "pi_giss_amoc_mean=pi_giss.amoc_mean_ann\n",
    "\n",
    "hadgem_amoc_mean=hadgem.amoc_mean_ann\n",
    "pi_hadgem_amoc_mean=pi_hadgem.amoc_mean_ann\n",
    "\n",
    "inm_amoc_mean=inm.amoc_mean_ann\n",
    "pi_inm_amoc_mean=pi_inm.amoc_mean_ann\n",
    "\n",
    "ipsl_amoc_mean=ipsl.amoc_mean_ann\n",
    "pi_ipsl_amoc_mean=pi_ipsl.amoc_mean_ann\n",
    "\n",
    "mpi2_amoc_mean=mpi2.amoc_mean_ann\n",
    "pi_mpi2_amoc_mean=pi_mpi2.amoc_mean_ann\n",
    "\n",
    "mri_amoc_mean=mri.amoc_mean_ann\n",
    "pi_mri_amoc_mean=pi_mri.amoc_mean_ann\n",
    "\n",
    "noresm2_amoc_mean=noresm2.amoc_mean_ann\n",
    "pi_noresm2_amoc_mean=pi_noresm2.amoc_mean_ann\n"
   ]
  },
  {
   "cell_type": "code",
   "execution_count": 25,
   "metadata": {},
   "outputs": [],
   "source": [
    "fgoalsg3_1=fgoalsg3.sel(basin=0)\n",
    "fgoalsg3_2=fgoalsg3_1.mean(dim='time')\n",
    "fgoalsg3_amoc_mean=fgoalsg3_2.msftmz\n",
    "\n",
    "pi_fgoalsg3_1=pi_fgoalsg3.sel(basin=0)\n",
    "pi_fgoalsg3_2=pi_fgoalsg3_1.mean(dim='time')\n",
    "pi_fgoalsg3_amoc_mean=pi_fgoalsg3_2.msftmz"
   ]
  },
  {
   "cell_type": "code",
   "execution_count": 26,
   "metadata": {},
   "outputs": [],
   "source": [
    "amoc_mean_4=[cesm_amoc_mean, ec_amoc_mean, fgoalsf3_amoc_mean, fgoalsg3_amoc_mean, \n",
    "             giss_amoc_mean, hadgem_amoc_mean, inm_amoc_mean, ipsl_amoc_mean, \n",
    "             mpi2_amoc_mean, mri_amoc_mean, noresm2_amoc_mean]"
   ]
  },
  {
   "cell_type": "code",
   "execution_count": 27,
   "metadata": {},
   "outputs": [],
   "source": [
    "pi_amoc_mean_4=[pi_cesm_amoc_mean, pi_ec_amoc_mean, pi_fgoalsf3_amoc_mean, pi_fgoalsg3_amoc_mean,\n",
    "                pi_giss_amoc_mean, pi_hadgem_amoc_mean, pi_inm_amoc_mean, pi_ipsl_amoc_mean, \n",
    "                pi_mpi2_amoc_mean, pi_mri_amoc_mean, pi_noresm2_amoc_mean]"
   ]
  },
  {
   "cell_type": "code",
   "execution_count": 28,
   "metadata": {},
   "outputs": [],
   "source": [
    "pmip4_modelname=['cesm','ec','fgoalsf3','fgoalsg3','giss','hadgem','inm','ipsl','mpi2','mri','noresm2']"
   ]
  },
  {
   "cell_type": "code",
   "execution_count": 29,
   "metadata": {},
   "outputs": [],
   "source": [
    "for n in (0,1,2,4,5,6,7,8,9,10):  #except for fgoalsg3\n",
    "    globals()[pmip4_modelname[n]+'_lat30_amoc']=amoc_mean_4[n].sel(lat_amoc=30,method='nearest')"
   ]
  },
  {
   "cell_type": "code",
   "execution_count": 30,
   "metadata": {},
   "outputs": [],
   "source": [
    "for n in (0,1,2,4,5,6,7,8,9,10):\n",
    "    globals()[pmip4_modelname[n]+'_lat50_amoc']=amoc_mean_4[n].sel(lat_amoc=50,method='nearest')"
   ]
  },
  {
   "cell_type": "code",
   "execution_count": 31,
   "metadata": {},
   "outputs": [],
   "source": [
    "for n in (0,1,2,4,5,6,7,8,9,10):\n",
    "    globals()['pi_'+ pmip4_modelname[n]+'_lat30_amoc']=pi_amoc_mean_4[n].sel(lat_amoc=30,method='nearest')"
   ]
  },
  {
   "cell_type": "code",
   "execution_count": 32,
   "metadata": {},
   "outputs": [],
   "source": [
    "for n in (0,1,2,4,5,6,7,8,9,10):\n",
    "    globals()['pi_'+ pmip4_modelname[n]+'_lat50_amoc']=pi_amoc_mean_4[n].sel(lat_amoc=50,method='nearest')"
   ]
  },
  {
   "cell_type": "code",
   "execution_count": 33,
   "metadata": {},
   "outputs": [],
   "source": [
    "for u in (0,1,2,4,5,6,7,8,9,10):\n",
    "    globals()['max_'+ pmip4_modelname[u]+'_lat30_amoc']=np.nanmax(globals()[pmip4_modelname[u]+'_lat30_amoc'])"
   ]
  },
  {
   "cell_type": "code",
   "execution_count": 34,
   "metadata": {},
   "outputs": [],
   "source": [
    "for u in (0,1,2,4,5,6,7,8,9,10):\n",
    "    globals()['max_'+ pmip4_modelname[u]+'_lat50_amoc']=np.nanmax(globals()[pmip4_modelname[u]+'_lat50_amoc'])"
   ]
  },
  {
   "cell_type": "code",
   "execution_count": 35,
   "metadata": {},
   "outputs": [],
   "source": [
    "for u in (0,1,2,4,5,6,7,8,9,10):\n",
    "    globals()['pi_max_'+ pmip4_modelname[u]+'_lat30_amoc']=np.nanmax(globals()['pi_'+ pmip4_modelname[u]+'_lat30_amoc'])"
   ]
  },
  {
   "cell_type": "code",
   "execution_count": 36,
   "metadata": {},
   "outputs": [],
   "source": [
    "for u in (0,1,2,4,5,6,7,8,9,10):\n",
    "    globals()['pi_max_'+ pmip4_modelname[u]+'_lat50_amoc']=np.nanmax(globals()['pi_'+ pmip4_modelname[u]+'_lat50_amoc'])"
   ]
  },
  {
   "cell_type": "code",
   "execution_count": 37,
   "metadata": {},
   "outputs": [],
   "source": [
    "for t in range (3,4): #for fgoalsg3\n",
    "    globals()[pmip4_modelname[t]+'_lat30_amoc']=amoc_mean_4[t].sel(lat=30,method='nearest')"
   ]
  },
  {
   "cell_type": "code",
   "execution_count": 38,
   "metadata": {},
   "outputs": [],
   "source": [
    "for t in range (3,4): #for fgoalsg3\n",
    "    globals()[pmip4_modelname[t]+'_lat50_amoc']=amoc_mean_4[t].sel(lat=50,method='nearest')"
   ]
  },
  {
   "cell_type": "code",
   "execution_count": 39,
   "metadata": {},
   "outputs": [],
   "source": [
    "for t in range (3,4):\n",
    "    globals()['pi_'+ pmip4_modelname[t]+'_lat30_amoc']=pi_amoc_mean_4[t].sel(lat=30,method='nearest')"
   ]
  },
  {
   "cell_type": "code",
   "execution_count": 40,
   "metadata": {},
   "outputs": [],
   "source": [
    "for t in range (3,4):\n",
    "    globals()['pi_'+ pmip4_modelname[t]+'_lat50_amoc']=pi_amoc_mean_4[t].sel(lat=50,method='nearest')"
   ]
  },
  {
   "cell_type": "code",
   "execution_count": 41,
   "metadata": {},
   "outputs": [],
   "source": [
    "for u in range (3,4):\n",
    "    globals()['max_'+ pmip4_modelname[u]+'_lat30_amoc']=np.nanmax(globals()[pmip4_modelname[u]+'_lat30_amoc'])"
   ]
  },
  {
   "cell_type": "code",
   "execution_count": 42,
   "metadata": {},
   "outputs": [],
   "source": [
    "for u in range (3,4):\n",
    "    globals()['max_'+ pmip4_modelname[u]+'_lat50_amoc']=np.nanmax(globals()[pmip4_modelname[u]+'_lat50_amoc'])"
   ]
  },
  {
   "cell_type": "code",
   "execution_count": 43,
   "metadata": {},
   "outputs": [],
   "source": [
    "for u in range (3,4):\n",
    "    globals()['pi_max_'+ pmip4_modelname[u]+'_lat30_amoc']=np.nanmax(globals()['pi_'+ pmip4_modelname[u]+'_lat30_amoc'])"
   ]
  },
  {
   "cell_type": "code",
   "execution_count": 44,
   "metadata": {},
   "outputs": [],
   "source": [
    "for u in range (3,4):\n",
    "    globals()['pi_max_'+ pmip4_modelname[u]+'_lat50_amoc']=np.nanmax(globals()['pi_'+ pmip4_modelname[u]+'_lat50_amoc'])"
   ]
  },
  {
   "cell_type": "markdown",
   "metadata": {},
   "source": [
    "## calculate the max AMOC at 30/50N for mh/pi"
   ]
  },
  {
   "cell_type": "code",
   "execution_count": 45,
   "metadata": {},
   "outputs": [
    {
     "name": "stdout",
     "output_type": "stream",
     "text": [
      "[19.411755, 16.239342, 24.429445, 33.466239, 24.501793, 18.355944, 16.329693, 11.590652, 20.06861, 20.248077, 21.449335]\n"
     ]
    }
   ],
   "source": [
    "# print out the MH max AMOC st 30N\n",
    "amoc_mh_30=[]\n",
    "\n",
    "for n in range (0,len(pmip4_modelname)):\n",
    "    if n in (0,1,2,4,5,6,7,8,9,10):\n",
    "        amoc_mh_30.append(globals()['max_'+ pmip4_modelname[n]+'_lat30_amoc'])\n",
    "    else:\n",
    "        amoc_mh_30.append(globals()['max_'+ pmip4_modelname[n]+'_lat30_amoc'] * 1e-9) # convert the units from kg/s to Sv\n",
    "\n",
    "# print out the value with 6 decimal places        \n",
    "Amoc_mh_30=[round(num, 6) for num in amoc_mh_30]\n",
    "print(Amoc_mh_30)\n",
    "\n",
    "# 'cesm','ec','fgoalsf3','fgoalsg3','giss','hadgem','inm','ipsl','mpi2','mri','noresm2'"
   ]
  },
  {
   "cell_type": "code",
   "execution_count": 46,
   "metadata": {},
   "outputs": [
    {
     "name": "stdout",
     "output_type": "stream",
     "text": [
      "[19.105024, 14.982977, 23.945753, 32.806423, 24.397606, 16.976843, 17.056538, 12.129082, 20.06891, 18.007044, 21.176233]\n"
     ]
    }
   ],
   "source": [
    "# print out the pi max AMOC st 30N\n",
    "amoc_pi_30=[]\n",
    "for n in range (0,len(pmip4_modelname)):\n",
    "    if n in (0,1,2,4,5,6,7,8,9,10):\n",
    "        amoc_pi_30.append(globals()['pi_max_'+ pmip4_modelname[n]+'_lat30_amoc'])\n",
    "    else:\n",
    "        amoc_pi_30.append(globals()['pi_max_'+ pmip4_modelname[n]+'_lat30_amoc'] * 1e-9)\n",
    "\n",
    "Amoc_pi_30=[round(num, 6) for num in amoc_pi_30]\n",
    "print(Amoc_pi_30)"
   ]
  },
  {
   "cell_type": "code",
   "execution_count": 63,
   "metadata": {},
   "outputs": [
    {
     "name": "stdout",
     "output_type": "stream",
     "text": [
      "[0.30673, 1.256365, 0.483692, 0.659816, 0.104187, 1.379101, -0.726845, -0.53843, -0.000301, 2.241034, 0.273102]\n"
     ]
    }
   ],
   "source": [
    "# calculate the change of the maximum AMOC at 30N (MH - PI) \n",
    "amoc_30_diff=[] \n",
    "for n in range (0, len(pmip4_modelname)):\n",
    "    amoc_30_diff.append (amoc_mh_30[n] - amoc_pi_30[n])\n",
    "\n",
    "Amoc_30_diff = [round(num, 6) for num in amoc_30_diff]\n",
    "print(Amoc_30_diff)\n",
    "\n",
    "# 'cesm','ec','fgoalsf3','fgoalsg3','giss','hadgem','inm','ipsl','mpi2','mri','noresm2'"
   ]
  },
  {
   "cell_type": "code",
   "execution_count": 47,
   "metadata": {},
   "outputs": [
    {
     "name": "stdout",
     "output_type": "stream",
     "text": [
      "[16.425135, 15.29902, 21.285234, 34.809016, 15.316298, 14.522717, 5.739996, 10.454684, 16.549305, 16.636135, 13.447311]\n"
     ]
    }
   ],
   "source": [
    "# print out the MH max AMOC st 50N\n",
    "amoc_mh_50=[]\n",
    "\n",
    "for n in range (0,len(pmip4_modelname)):\n",
    "    if n in (0,1,2,4,5,6,7,8,9,10):\n",
    "        amoc_mh_50.append(globals()['max_'+ pmip4_modelname[n]+'_lat50_amoc'])\n",
    "    else:\n",
    "        amoc_mh_50.append(globals()['max_'+ pmip4_modelname[n]+'_lat50_amoc'] * 1e-9) # convert the units from kg/s to Sv\n",
    "\n",
    "# print out the value with 6 decimal places        \n",
    "Amoc_mh_50=[round(num, 6) for num in amoc_mh_50]\n",
    "print(Amoc_mh_50)"
   ]
  },
  {
   "cell_type": "code",
   "execution_count": 48,
   "metadata": {},
   "outputs": [
    {
     "name": "stdout",
     "output_type": "stream",
     "text": [
      "[16.229677, 14.52121, 20.798315, 33.230043, 15.479198, 13.909647, 5.989632, 10.860806, 16.654346, 16.237524, 13.554823]\n"
     ]
    }
   ],
   "source": [
    "# print out the pi max AMOC st 50N\n",
    "amoc_pi_50=[]\n",
    "for n in range (0,len(pmip4_modelname)):\n",
    "    if n in (0,1,2,4,5,6,7,8,9,10):\n",
    "        amoc_pi_50.append(globals()['pi_max_'+ pmip4_modelname[n]+'_lat50_amoc'])\n",
    "    else:\n",
    "        amoc_pi_50.append(globals()['pi_max_'+ pmip4_modelname[n]+'_lat50_amoc'] * 1e-9)\n",
    "\n",
    "Amoc_pi_50=[round(num, 6) for num in amoc_pi_50]\n",
    "print(Amoc_pi_50)"
   ]
  },
  {
   "cell_type": "code",
   "execution_count": 49,
   "metadata": {},
   "outputs": [
    {
     "name": "stdout",
     "output_type": "stream",
     "text": [
      "[0.195457, 0.77781, 0.486918, 1.578973, -0.162899, 0.61307, -0.249636, -0.406121, -0.105042, 0.398611, -0.107512]\n"
     ]
    }
   ],
   "source": [
    "# calculate the change of the maximum AMOC at 50N (MH - PI) \n",
    "amoc_50_diff=[] \n",
    "for n in range (0, len(pmip4_modelname)):\n",
    "    amoc_50_diff.append (amoc_mh_50[n] - amoc_pi_50[n])\n",
    "\n",
    "Amoc_50_diff = [round(num, 6) for num in amoc_50_diff]\n",
    "print(Amoc_50_diff)\n",
    "\n",
    "# 'cesm','ec','fgoalsf3','fgoalsg3','giss','hadgem','inm','ipsl','mpi2','mri','noresm2'"
   ]
  },
  {
   "cell_type": "code",
   "execution_count": 51,
   "metadata": {
    "scrolled": true
   },
   "outputs": [
    {
     "data": {
      "text/html": [
       "<div>\n",
       "<style scoped>\n",
       "    .dataframe tbody tr th:only-of-type {\n",
       "        vertical-align: middle;\n",
       "    }\n",
       "\n",
       "    .dataframe tbody tr th {\n",
       "        vertical-align: top;\n",
       "    }\n",
       "\n",
       "    .dataframe thead th {\n",
       "        text-align: right;\n",
       "    }\n",
       "</style>\n",
       "<table border=\"1\" class=\"dataframe\">\n",
       "  <thead>\n",
       "    <tr style=\"text-align: right;\">\n",
       "      <th></th>\n",
       "      <th>number</th>\n",
       "      <th>model</th>\n",
       "      <th>color</th>\n",
       "      <th>mhncl_R</th>\n",
       "      <th>mhncl_G</th>\n",
       "      <th>mhncl_B</th>\n",
       "      <th>ipccncl_r</th>\n",
       "      <th>ipccncl_g</th>\n",
       "      <th>ipccncl_b</th>\n",
       "      <th>mh_r</th>\n",
       "      <th>mh_g</th>\n",
       "      <th>mh_b</th>\n",
       "      <th>ipcc_r</th>\n",
       "      <th>ipcc_g</th>\n",
       "      <th>ipcc_b</th>\n",
       "    </tr>\n",
       "  </thead>\n",
       "  <tbody>\n",
       "    <tr>\n",
       "      <th>0</th>\n",
       "      <td>1</td>\n",
       "      <td>AWI-ESM-1-1-LR</td>\n",
       "      <td>darkorange2</td>\n",
       "      <td>238</td>\n",
       "      <td>118</td>\n",
       "      <td>0</td>\n",
       "      <td>153.0</td>\n",
       "      <td>0.0</td>\n",
       "      <td>255.0</td>\n",
       "      <td>0.933333</td>\n",
       "      <td>0.462745</td>\n",
       "      <td>0.000000</td>\n",
       "      <td>0.600000</td>\n",
       "      <td>0.000000</td>\n",
       "      <td>1.000000</td>\n",
       "    </tr>\n",
       "    <tr>\n",
       "      <th>1</th>\n",
       "      <td>2</td>\n",
       "      <td>CESM2</td>\n",
       "      <td>darkturquoise</td>\n",
       "      <td>0</td>\n",
       "      <td>206</td>\n",
       "      <td>209</td>\n",
       "      <td>67.0</td>\n",
       "      <td>178.0</td>\n",
       "      <td>216.0</td>\n",
       "      <td>0.000000</td>\n",
       "      <td>0.807843</td>\n",
       "      <td>0.819608</td>\n",
       "      <td>0.262745</td>\n",
       "      <td>0.698039</td>\n",
       "      <td>0.847059</td>\n",
       "    </tr>\n",
       "    <tr>\n",
       "      <th>2</th>\n",
       "      <td>3</td>\n",
       "      <td>EC-Earth3-LR</td>\n",
       "      <td>deeppink2</td>\n",
       "      <td>238</td>\n",
       "      <td>18</td>\n",
       "      <td>137</td>\n",
       "      <td>124.0</td>\n",
       "      <td>99.0</td>\n",
       "      <td>184.0</td>\n",
       "      <td>0.933333</td>\n",
       "      <td>0.070588</td>\n",
       "      <td>0.537255</td>\n",
       "      <td>0.486275</td>\n",
       "      <td>0.388235</td>\n",
       "      <td>0.721569</td>\n",
       "    </tr>\n",
       "    <tr>\n",
       "      <th>3</th>\n",
       "      <td>4</td>\n",
       "      <td>FGOALS-f3-L</td>\n",
       "      <td>blue4</td>\n",
       "      <td>0</td>\n",
       "      <td>0</td>\n",
       "      <td>139</td>\n",
       "      <td>248.0</td>\n",
       "      <td>154.0</td>\n",
       "      <td>28.0</td>\n",
       "      <td>0.000000</td>\n",
       "      <td>0.000000</td>\n",
       "      <td>0.545098</td>\n",
       "      <td>0.972549</td>\n",
       "      <td>0.603922</td>\n",
       "      <td>0.109804</td>\n",
       "    </tr>\n",
       "    <tr>\n",
       "      <th>4</th>\n",
       "      <td>5</td>\n",
       "      <td>FGOALS-g3</td>\n",
       "      <td>lightblue1</td>\n",
       "      <td>191</td>\n",
       "      <td>239</td>\n",
       "      <td>255</td>\n",
       "      <td>248.0</td>\n",
       "      <td>154.0</td>\n",
       "      <td>28.0</td>\n",
       "      <td>0.749020</td>\n",
       "      <td>0.937255</td>\n",
       "      <td>1.000000</td>\n",
       "      <td>0.972549</td>\n",
       "      <td>0.603922</td>\n",
       "      <td>0.109804</td>\n",
       "    </tr>\n",
       "    <tr>\n",
       "      <th>5</th>\n",
       "      <td>6</td>\n",
       "      <td>GISS-E2-1-G</td>\n",
       "      <td>magenta4</td>\n",
       "      <td>139</td>\n",
       "      <td>0</td>\n",
       "      <td>139</td>\n",
       "      <td>119.0</td>\n",
       "      <td>29.0</td>\n",
       "      <td>123.0</td>\n",
       "      <td>0.545098</td>\n",
       "      <td>0.000000</td>\n",
       "      <td>0.545098</td>\n",
       "      <td>0.466667</td>\n",
       "      <td>0.113725</td>\n",
       "      <td>0.482353</td>\n",
       "    </tr>\n",
       "    <tr>\n",
       "      <th>6</th>\n",
       "      <td>7</td>\n",
       "      <td>HadGEM3-GC31-LL</td>\n",
       "      <td>green4</td>\n",
       "      <td>0</td>\n",
       "      <td>139</td>\n",
       "      <td>0</td>\n",
       "      <td>122.0</td>\n",
       "      <td>139.0</td>\n",
       "      <td>38.0</td>\n",
       "      <td>0.000000</td>\n",
       "      <td>0.545098</td>\n",
       "      <td>0.000000</td>\n",
       "      <td>0.478431</td>\n",
       "      <td>0.545098</td>\n",
       "      <td>0.149020</td>\n",
       "    </tr>\n",
       "    <tr>\n",
       "      <th>7</th>\n",
       "      <td>8</td>\n",
       "      <td>INM-CM4-8</td>\n",
       "      <td>firebrick</td>\n",
       "      <td>178</td>\n",
       "      <td>34</td>\n",
       "      <td>34</td>\n",
       "      <td>247.0</td>\n",
       "      <td>67.0</td>\n",
       "      <td>67.0</td>\n",
       "      <td>0.698039</td>\n",
       "      <td>0.133333</td>\n",
       "      <td>0.133333</td>\n",
       "      <td>0.968627</td>\n",
       "      <td>0.262745</td>\n",
       "      <td>0.262745</td>\n",
       "    </tr>\n",
       "    <tr>\n",
       "      <th>8</th>\n",
       "      <td>9</td>\n",
       "      <td>IPSL-CM6A-LR</td>\n",
       "      <td>chocolate4</td>\n",
       "      <td>139</td>\n",
       "      <td>69</td>\n",
       "      <td>19</td>\n",
       "      <td>91.0</td>\n",
       "      <td>83.0</td>\n",
       "      <td>174.0</td>\n",
       "      <td>0.545098</td>\n",
       "      <td>0.270588</td>\n",
       "      <td>0.074510</td>\n",
       "      <td>0.356863</td>\n",
       "      <td>0.325490</td>\n",
       "      <td>0.682353</td>\n",
       "    </tr>\n",
       "    <tr>\n",
       "      <th>9</th>\n",
       "      <td>10</td>\n",
       "      <td>MIROC-ES2L</td>\n",
       "      <td>purple</td>\n",
       "      <td>160</td>\n",
       "      <td>32</td>\n",
       "      <td>240</td>\n",
       "      <td>184.0</td>\n",
       "      <td>95.0</td>\n",
       "      <td>182.0</td>\n",
       "      <td>0.627451</td>\n",
       "      <td>0.125490</td>\n",
       "      <td>0.941176</td>\n",
       "      <td>0.721569</td>\n",
       "      <td>0.372549</td>\n",
       "      <td>0.713725</td>\n",
       "    </tr>\n",
       "    <tr>\n",
       "      <th>10</th>\n",
       "      <td>11</td>\n",
       "      <td>MPI-ESM1-2-LR</td>\n",
       "      <td>brown4</td>\n",
       "      <td>139</td>\n",
       "      <td>35</td>\n",
       "      <td>35</td>\n",
       "      <td>93.0</td>\n",
       "      <td>161.0</td>\n",
       "      <td>162.0</td>\n",
       "      <td>0.545098</td>\n",
       "      <td>0.137255</td>\n",
       "      <td>0.137255</td>\n",
       "      <td>0.364706</td>\n",
       "      <td>0.631373</td>\n",
       "      <td>0.635294</td>\n",
       "    </tr>\n",
       "    <tr>\n",
       "      <th>11</th>\n",
       "      <td>12</td>\n",
       "      <td>MRI-ESM2-0</td>\n",
       "      <td>darkseagreen4</td>\n",
       "      <td>105</td>\n",
       "      <td>139</td>\n",
       "      <td>105</td>\n",
       "      <td>173.0</td>\n",
       "      <td>255.0</td>\n",
       "      <td>47.0</td>\n",
       "      <td>0.411765</td>\n",
       "      <td>0.545098</td>\n",
       "      <td>0.411765</td>\n",
       "      <td>0.678431</td>\n",
       "      <td>1.000000</td>\n",
       "      <td>0.184314</td>\n",
       "    </tr>\n",
       "    <tr>\n",
       "      <th>12</th>\n",
       "      <td>13</td>\n",
       "      <td>NESM3</td>\n",
       "      <td>cyan4</td>\n",
       "      <td>0</td>\n",
       "      <td>139</td>\n",
       "      <td>139</td>\n",
       "      <td>174.0</td>\n",
       "      <td>170.0</td>\n",
       "      <td>170.0</td>\n",
       "      <td>0.000000</td>\n",
       "      <td>0.545098</td>\n",
       "      <td>0.545098</td>\n",
       "      <td>0.682353</td>\n",
       "      <td>0.666667</td>\n",
       "      <td>0.666667</td>\n",
       "    </tr>\n",
       "    <tr>\n",
       "      <th>13</th>\n",
       "      <td>14</td>\n",
       "      <td>NorESM1-F</td>\n",
       "      <td>dodgerblue2</td>\n",
       "      <td>16</td>\n",
       "      <td>78</td>\n",
       "      <td>139</td>\n",
       "      <td>241.0</td>\n",
       "      <td>58.0</td>\n",
       "      <td>167.0</td>\n",
       "      <td>0.062745</td>\n",
       "      <td>0.305882</td>\n",
       "      <td>0.545098</td>\n",
       "      <td>0.945098</td>\n",
       "      <td>0.227451</td>\n",
       "      <td>0.654902</td>\n",
       "    </tr>\n",
       "    <tr>\n",
       "      <th>14</th>\n",
       "      <td>15</td>\n",
       "      <td>NorESM2-LM</td>\n",
       "      <td>darkgoldenrod2</td>\n",
       "      <td>238</td>\n",
       "      <td>173</td>\n",
       "      <td>14</td>\n",
       "      <td>241.0</td>\n",
       "      <td>58.0</td>\n",
       "      <td>167.0</td>\n",
       "      <td>0.933333</td>\n",
       "      <td>0.678431</td>\n",
       "      <td>0.054902</td>\n",
       "      <td>0.945098</td>\n",
       "      <td>0.227451</td>\n",
       "      <td>0.654902</td>\n",
       "    </tr>\n",
       "    <tr>\n",
       "      <th>15</th>\n",
       "      <td>16</td>\n",
       "      <td>UofT-CCSM-4</td>\n",
       "      <td>yellow3</td>\n",
       "      <td>205</td>\n",
       "      <td>205</td>\n",
       "      <td>0</td>\n",
       "      <td>NaN</td>\n",
       "      <td>NaN</td>\n",
       "      <td>NaN</td>\n",
       "      <td>0.803922</td>\n",
       "      <td>0.803922</td>\n",
       "      <td>0.000000</td>\n",
       "      <td>0.803922</td>\n",
       "      <td>0.803922</td>\n",
       "      <td>0.000000</td>\n",
       "    </tr>\n",
       "  </tbody>\n",
       "</table>\n",
       "</div>"
      ],
      "text/plain": [
       "    number            model           color  mhncl_R  mhncl_G  mhncl_B  \\\n",
       "0        1   AWI-ESM-1-1-LR     darkorange2      238      118        0   \n",
       "1        2            CESM2   darkturquoise        0      206      209   \n",
       "2        3     EC-Earth3-LR       deeppink2      238       18      137   \n",
       "3        4      FGOALS-f3-L           blue4        0        0      139   \n",
       "4        5        FGOALS-g3      lightblue1      191      239      255   \n",
       "5        6      GISS-E2-1-G        magenta4      139        0      139   \n",
       "6        7  HadGEM3-GC31-LL          green4        0      139        0   \n",
       "7        8        INM-CM4-8       firebrick      178       34       34   \n",
       "8        9     IPSL-CM6A-LR      chocolate4      139       69       19   \n",
       "9       10       MIROC-ES2L          purple      160       32      240   \n",
       "10      11    MPI-ESM1-2-LR          brown4      139       35       35   \n",
       "11      12       MRI-ESM2-0   darkseagreen4      105      139      105   \n",
       "12      13            NESM3           cyan4        0      139      139   \n",
       "13      14        NorESM1-F     dodgerblue2       16       78      139   \n",
       "14      15       NorESM2-LM  darkgoldenrod2      238      173       14   \n",
       "15      16      UofT-CCSM-4         yellow3      205      205        0   \n",
       "\n",
       "    ipccncl_r  ipccncl_g  ipccncl_b      mh_r      mh_g      mh_b    ipcc_r  \\\n",
       "0       153.0        0.0      255.0  0.933333  0.462745  0.000000  0.600000   \n",
       "1        67.0      178.0      216.0  0.000000  0.807843  0.819608  0.262745   \n",
       "2       124.0       99.0      184.0  0.933333  0.070588  0.537255  0.486275   \n",
       "3       248.0      154.0       28.0  0.000000  0.000000  0.545098  0.972549   \n",
       "4       248.0      154.0       28.0  0.749020  0.937255  1.000000  0.972549   \n",
       "5       119.0       29.0      123.0  0.545098  0.000000  0.545098  0.466667   \n",
       "6       122.0      139.0       38.0  0.000000  0.545098  0.000000  0.478431   \n",
       "7       247.0       67.0       67.0  0.698039  0.133333  0.133333  0.968627   \n",
       "8        91.0       83.0      174.0  0.545098  0.270588  0.074510  0.356863   \n",
       "9       184.0       95.0      182.0  0.627451  0.125490  0.941176  0.721569   \n",
       "10       93.0      161.0      162.0  0.545098  0.137255  0.137255  0.364706   \n",
       "11      173.0      255.0       47.0  0.411765  0.545098  0.411765  0.678431   \n",
       "12      174.0      170.0      170.0  0.000000  0.545098  0.545098  0.682353   \n",
       "13      241.0       58.0      167.0  0.062745  0.305882  0.545098  0.945098   \n",
       "14      241.0       58.0      167.0  0.933333  0.678431  0.054902  0.945098   \n",
       "15        NaN        NaN        NaN  0.803922  0.803922  0.000000  0.803922   \n",
       "\n",
       "      ipcc_g    ipcc_b  \n",
       "0   0.000000  1.000000  \n",
       "1   0.698039  0.847059  \n",
       "2   0.388235  0.721569  \n",
       "3   0.603922  0.109804  \n",
       "4   0.603922  0.109804  \n",
       "5   0.113725  0.482353  \n",
       "6   0.545098  0.149020  \n",
       "7   0.262745  0.262745  \n",
       "8   0.325490  0.682353  \n",
       "9   0.372549  0.713725  \n",
       "10  0.631373  0.635294  \n",
       "11  1.000000  0.184314  \n",
       "12  0.666667  0.666667  \n",
       "13  0.227451  0.654902  \n",
       "14  0.227451  0.654902  \n",
       "15  0.803922  0.000000  "
      ]
     },
     "execution_count": 51,
     "metadata": {},
     "output_type": "execute_result"
    }
   ],
   "source": [
    "df= pd.read_csv('PMIP4_mh_modellist.csv',skipinitialspace=True,header=0)\n",
    "df"
   ]
  },
  {
   "cell_type": "code",
   "execution_count": 52,
   "metadata": {},
   "outputs": [
    {
     "data": {
      "text/html": [
       "<div>\n",
       "<style scoped>\n",
       "    .dataframe tbody tr th:only-of-type {\n",
       "        vertical-align: middle;\n",
       "    }\n",
       "\n",
       "    .dataframe tbody tr th {\n",
       "        vertical-align: top;\n",
       "    }\n",
       "\n",
       "    .dataframe thead th {\n",
       "        text-align: right;\n",
       "    }\n",
       "</style>\n",
       "<table border=\"1\" class=\"dataframe\">\n",
       "  <thead>\n",
       "    <tr style=\"text-align: right;\">\n",
       "      <th></th>\n",
       "      <th>number</th>\n",
       "      <th>model</th>\n",
       "      <th>color</th>\n",
       "      <th>mhncl_R</th>\n",
       "      <th>mhncl_G</th>\n",
       "      <th>mhncl_B</th>\n",
       "      <th>ipccncl_r</th>\n",
       "      <th>ipccncl_g</th>\n",
       "      <th>ipccncl_b</th>\n",
       "      <th>mh_r</th>\n",
       "      <th>mh_g</th>\n",
       "      <th>mh_b</th>\n",
       "      <th>ipcc_r</th>\n",
       "      <th>ipcc_g</th>\n",
       "      <th>ipcc_b</th>\n",
       "    </tr>\n",
       "  </thead>\n",
       "  <tbody>\n",
       "    <tr>\n",
       "      <th>0</th>\n",
       "      <td>2</td>\n",
       "      <td>CESM2</td>\n",
       "      <td>darkturquoise</td>\n",
       "      <td>0</td>\n",
       "      <td>206</td>\n",
       "      <td>209</td>\n",
       "      <td>67</td>\n",
       "      <td>178</td>\n",
       "      <td>216</td>\n",
       "      <td>0</td>\n",
       "      <td>0.807843137</td>\n",
       "      <td>0.819607843</td>\n",
       "      <td>0.262745098</td>\n",
       "      <td>0.698039216</td>\n",
       "      <td>0.847058824</td>\n",
       "    </tr>\n",
       "    <tr>\n",
       "      <th>1</th>\n",
       "      <td>3</td>\n",
       "      <td>EC-Earth3-LR</td>\n",
       "      <td>deeppink2</td>\n",
       "      <td>238</td>\n",
       "      <td>18</td>\n",
       "      <td>137</td>\n",
       "      <td>124</td>\n",
       "      <td>99</td>\n",
       "      <td>184</td>\n",
       "      <td>0.933333333</td>\n",
       "      <td>0.070588235</td>\n",
       "      <td>0.537254902</td>\n",
       "      <td>0.48627451</td>\n",
       "      <td>0.388235294</td>\n",
       "      <td>0.721568627</td>\n",
       "    </tr>\n",
       "    <tr>\n",
       "      <th>2</th>\n",
       "      <td>4</td>\n",
       "      <td>FGOALS-f3-L</td>\n",
       "      <td>blue4</td>\n",
       "      <td>0</td>\n",
       "      <td>0</td>\n",
       "      <td>139</td>\n",
       "      <td>248</td>\n",
       "      <td>154</td>\n",
       "      <td>28</td>\n",
       "      <td>0</td>\n",
       "      <td>0</td>\n",
       "      <td>0.545098039</td>\n",
       "      <td>0.97254902</td>\n",
       "      <td>0.603921569</td>\n",
       "      <td>0.109803922</td>\n",
       "    </tr>\n",
       "    <tr>\n",
       "      <th>3</th>\n",
       "      <td>5</td>\n",
       "      <td>FGOALS-g3</td>\n",
       "      <td>lightblue1</td>\n",
       "      <td>191</td>\n",
       "      <td>239</td>\n",
       "      <td>255</td>\n",
       "      <td>248</td>\n",
       "      <td>154</td>\n",
       "      <td>28</td>\n",
       "      <td>0.749019608</td>\n",
       "      <td>0.937254902</td>\n",
       "      <td>1</td>\n",
       "      <td>0.97254902</td>\n",
       "      <td>0.603921569</td>\n",
       "      <td>0.109803922</td>\n",
       "    </tr>\n",
       "    <tr>\n",
       "      <th>4</th>\n",
       "      <td>6</td>\n",
       "      <td>GISS-E2-1-G</td>\n",
       "      <td>magenta4</td>\n",
       "      <td>139</td>\n",
       "      <td>0</td>\n",
       "      <td>139</td>\n",
       "      <td>119</td>\n",
       "      <td>29</td>\n",
       "      <td>123</td>\n",
       "      <td>0.545098039</td>\n",
       "      <td>0</td>\n",
       "      <td>0.545098039</td>\n",
       "      <td>0.466666667</td>\n",
       "      <td>0.11372549</td>\n",
       "      <td>0.482352941</td>\n",
       "    </tr>\n",
       "    <tr>\n",
       "      <th>5</th>\n",
       "      <td>7</td>\n",
       "      <td>HadGEM3-GC31-LL</td>\n",
       "      <td>green4</td>\n",
       "      <td>0</td>\n",
       "      <td>139</td>\n",
       "      <td>0</td>\n",
       "      <td>122</td>\n",
       "      <td>139</td>\n",
       "      <td>38</td>\n",
       "      <td>0</td>\n",
       "      <td>0.545098039</td>\n",
       "      <td>0</td>\n",
       "      <td>0.478431373</td>\n",
       "      <td>0.545098039</td>\n",
       "      <td>0.149019608</td>\n",
       "    </tr>\n",
       "    <tr>\n",
       "      <th>6</th>\n",
       "      <td>8</td>\n",
       "      <td>INM-CM4-8</td>\n",
       "      <td>firebrick</td>\n",
       "      <td>178</td>\n",
       "      <td>34</td>\n",
       "      <td>34</td>\n",
       "      <td>247</td>\n",
       "      <td>67</td>\n",
       "      <td>67</td>\n",
       "      <td>0.698039216</td>\n",
       "      <td>0.133333333</td>\n",
       "      <td>0.133333333</td>\n",
       "      <td>0.968627451</td>\n",
       "      <td>0.262745098</td>\n",
       "      <td>0.262745098</td>\n",
       "    </tr>\n",
       "    <tr>\n",
       "      <th>7</th>\n",
       "      <td>9</td>\n",
       "      <td>IPSL-CM6A-LR</td>\n",
       "      <td>chocolate4</td>\n",
       "      <td>139</td>\n",
       "      <td>69</td>\n",
       "      <td>19</td>\n",
       "      <td>91</td>\n",
       "      <td>83</td>\n",
       "      <td>174</td>\n",
       "      <td>0.545098039</td>\n",
       "      <td>0.270588235</td>\n",
       "      <td>0.074509804</td>\n",
       "      <td>0.356862745</td>\n",
       "      <td>0.325490196</td>\n",
       "      <td>0.682352941</td>\n",
       "    </tr>\n",
       "    <tr>\n",
       "      <th>8</th>\n",
       "      <td>11</td>\n",
       "      <td>MPI-ESM1-2-LR</td>\n",
       "      <td>brown4</td>\n",
       "      <td>139</td>\n",
       "      <td>35</td>\n",
       "      <td>35</td>\n",
       "      <td>93</td>\n",
       "      <td>161</td>\n",
       "      <td>162</td>\n",
       "      <td>0.545098039</td>\n",
       "      <td>0.137254902</td>\n",
       "      <td>0.137254902</td>\n",
       "      <td>0.364705882</td>\n",
       "      <td>0.631372549</td>\n",
       "      <td>0.635294118</td>\n",
       "    </tr>\n",
       "    <tr>\n",
       "      <th>9</th>\n",
       "      <td>12</td>\n",
       "      <td>MRI-ESM2-0</td>\n",
       "      <td>darkseagreen4</td>\n",
       "      <td>105</td>\n",
       "      <td>139</td>\n",
       "      <td>105</td>\n",
       "      <td>173</td>\n",
       "      <td>255</td>\n",
       "      <td>47</td>\n",
       "      <td>0.411764706</td>\n",
       "      <td>0.545098039</td>\n",
       "      <td>0.411764706</td>\n",
       "      <td>0.678431373</td>\n",
       "      <td>1</td>\n",
       "      <td>0.184313725</td>\n",
       "    </tr>\n",
       "    <tr>\n",
       "      <th>10</th>\n",
       "      <td>15</td>\n",
       "      <td>NorESM2-LM</td>\n",
       "      <td>darkgoldenrod2</td>\n",
       "      <td>238</td>\n",
       "      <td>173</td>\n",
       "      <td>14</td>\n",
       "      <td>241</td>\n",
       "      <td>58</td>\n",
       "      <td>167</td>\n",
       "      <td>0.933333333</td>\n",
       "      <td>0.678431373</td>\n",
       "      <td>0.054901961</td>\n",
       "      <td>0.945098039</td>\n",
       "      <td>0.22745098</td>\n",
       "      <td>0.654901961</td>\n",
       "    </tr>\n",
       "  </tbody>\n",
       "</table>\n",
       "</div>"
      ],
      "text/plain": [
       "   number            model           color mhncl_R mhncl_G mhncl_B ipccncl_r  \\\n",
       "0       2            CESM2   darkturquoise       0     206     209        67   \n",
       "1       3     EC-Earth3-LR       deeppink2     238      18     137       124   \n",
       "2       4      FGOALS-f3-L           blue4       0       0     139       248   \n",
       "3       5        FGOALS-g3      lightblue1     191     239     255       248   \n",
       "4       6      GISS-E2-1-G        magenta4     139       0     139       119   \n",
       "5       7  HadGEM3-GC31-LL          green4       0     139       0       122   \n",
       "6       8        INM-CM4-8       firebrick     178      34      34       247   \n",
       "7       9     IPSL-CM6A-LR      chocolate4     139      69      19        91   \n",
       "8      11    MPI-ESM1-2-LR          brown4     139      35      35        93   \n",
       "9      12       MRI-ESM2-0   darkseagreen4     105     139     105       173   \n",
       "10     15       NorESM2-LM  darkgoldenrod2     238     173      14       241   \n",
       "\n",
       "   ipccncl_g ipccncl_b         mh_r         mh_g         mh_b       ipcc_r  \\\n",
       "0        178       216            0  0.807843137  0.819607843  0.262745098   \n",
       "1         99       184  0.933333333  0.070588235  0.537254902   0.48627451   \n",
       "2        154        28            0            0  0.545098039   0.97254902   \n",
       "3        154        28  0.749019608  0.937254902            1   0.97254902   \n",
       "4         29       123  0.545098039            0  0.545098039  0.466666667   \n",
       "5        139        38            0  0.545098039            0  0.478431373   \n",
       "6         67        67  0.698039216  0.133333333  0.133333333  0.968627451   \n",
       "7         83       174  0.545098039  0.270588235  0.074509804  0.356862745   \n",
       "8        161       162  0.545098039  0.137254902  0.137254902  0.364705882   \n",
       "9        255        47  0.411764706  0.545098039  0.411764706  0.678431373   \n",
       "10        58       167  0.933333333  0.678431373  0.054901961  0.945098039   \n",
       "\n",
       "         ipcc_g       ipcc_b  \n",
       "0   0.698039216  0.847058824  \n",
       "1   0.388235294  0.721568627  \n",
       "2   0.603921569  0.109803922  \n",
       "3   0.603921569  0.109803922  \n",
       "4    0.11372549  0.482352941  \n",
       "5   0.545098039  0.149019608  \n",
       "6   0.262745098  0.262745098  \n",
       "7   0.325490196  0.682352941  \n",
       "8   0.631372549  0.635294118  \n",
       "9             1  0.184313725  \n",
       "10   0.22745098  0.654901961  "
      ]
     },
     "execution_count": 52,
     "metadata": {},
     "output_type": "execute_result"
    }
   ],
   "source": [
    "# select the model that I need \n",
    "import csv\n",
    "\n",
    "DESIRED_ROWS = {2,3,4,5,6,7,8,9,11,12,15}\n",
    "with open(\"PMIP4_mh_modellist.csv\") as input_file:\n",
    "    reader = csv.reader(input_file)\n",
    "\n",
    "    desired_rows = [row for row_number, row in enumerate(reader)\n",
    "                    if row_number in DESIRED_ROWS]\n",
    "\n",
    "df_sel = pd.DataFrame(desired_rows,columns=['number','model','color','mhncl_R','mhncl_G','mhncl_B','ipccncl_r','ipccncl_g','ipccncl_b','mh_r','mh_g','mh_b','ipcc_r','ipcc_g','ipcc_b',])\n",
    "df_sel"
   ]
  },
  {
   "cell_type": "code",
   "execution_count": 69,
   "metadata": {},
   "outputs": [],
   "source": [
    "#save the selected model info to a new CSV file \n",
    "# in order to use the new file for colour info\n",
    "df_sel.to_csv('PMIP4_mh_mymodel.csv')"
   ]
  },
  {
   "cell_type": "code",
   "execution_count": 60,
   "metadata": {},
   "outputs": [],
   "source": [
    "pmip4_model_name=['CESM2','EC-Earth3-LR','FGOALS-f3-L','FGOALS-g3',\n",
    "                  'GISS-E2-1-G','HadGEM3-GC31-LL',\n",
    "                  'INM-CM4-8','IPSL-CM6A-LR','MPI-ESM1-2-LR','MRI-ESM2-0',\n",
    "                  'NorESM2-LM']"
   ]
  },
  {
   "cell_type": "code",
   "execution_count": 54,
   "metadata": {},
   "outputs": [],
   "source": [
    "pmip4_r=pd.read_csv('PMIP4_mh_mymodel.csv',skipinitialspace=True,header=0)['ipcc_r']\n",
    "pmip4_g=pd.read_csv('PMIP4_mh_mymodel.csv',skipinitialspace=True,header=0)['ipcc_g']\n",
    "pmip4_b=pd.read_csv('PMIP4_mh_mymodel.csv',skipinitialspace=True,header=0)['ipcc_b']"
   ]
  },
  {
   "cell_type": "code",
   "execution_count": 55,
   "metadata": {},
   "outputs": [],
   "source": [
    "pmip3_model_name=['CCSM4','FGOALS-G2','MPI-ESM-P','MRI-CGCM3']"
   ]
  },
  {
   "cell_type": "code",
   "execution_count": 56,
   "metadata": {},
   "outputs": [],
   "source": [
    "pmip3_legend_color=['orangered','limegreen','violet','blue']"
   ]
  },
  {
   "cell_type": "markdown",
   "metadata": {},
   "source": [
    "## plot PMIP3 & PMIP4 data on the same plot"
   ]
  },
  {
   "cell_type": "code",
   "execution_count": 61,
   "metadata": {},
   "outputs": [
    {
     "data": {
      "text/plain": [
       "[Text(0.5, 1.0, 'AMOC at 30N & 50N in simulations (MH and PI)')]"
      ]
     },
     "execution_count": 61,
     "metadata": {},
     "output_type": "execute_result"
    },
    {
     "data": {
      "image/png": "[encoded data removed]",
      "text/plain": [
       "<Figure size 720x720 with 1 Axes>"
      ]
     },
     "metadata": {
      "needs_background": "light"
     },
     "output_type": "display_data"
    }
   ],
   "source": [
    "fig=plt.figure(figsize=(10,10)) \n",
    "\n",
    "ax=fig.add_subplot(111)\n",
    "\n",
    "ax.plot(0,0,color='k',marker='o',label='PMIP3-30N',fillstyle='none', mew=1.5, linestyle='None',markersize=10)\n",
    "ax.plot(0,0,color='k',marker='^',label='PMIP3-50N',fillstyle='none', mew=1.5, linestyle='None',markersize=10)\n",
    "ax.scatter(0,0,color='k',marker='o',label='PMIP4-30N', s=100)\n",
    "ax.scatter(0,0,color='k',marker='^',label='PMIP4-50N', s=100)\n",
    "    \n",
    "\n",
    "for k in range (0,len(pmip3_modelname)):\n",
    "    ax.plot(globals()['pi_max_'+ pmip3_modelname[k]+'_lat30_amoc'], globals()['max_'+ pmip3_modelname[k]+'_lat30_amoc'], label=pmip3_model_name[k], color=pmip3_legend_color[k], marker='o',fillstyle='none', mew=1.5, linestyle='None',markersize=10)\n",
    "    ax.plot(globals()['pi_max_'+ pmip3_modelname[k]+'_lat50_amoc'], globals()['max_'+ pmip3_modelname[k]+'_lat50_amoc'], color=pmip3_legend_color[k], marker='^',fillstyle='none', mew=1.5, linestyle='None', markersize=10)\n",
    "\n",
    "for m in range (0,len(pmip4_modelname)):\n",
    "    ax.scatter(amoc_pi_30[m], amoc_mh_30[m], label=pmip4_model_name[m], color=(pmip4_r[m],pmip4_g[m],pmip4_b[m]), marker='o', s=100)\n",
    "    ax.scatter(amoc_pi_50[m], amoc_mh_50[m], color=(pmip4_r[m],pmip4_g[m],pmip4_b[m]), marker='^', s=100)\n",
    "\n",
    "    \n",
    "#Y1=[5,5]\n",
    "#Y2=[30,30]\n",
    "#X1=[14,15.8]\n",
    "#X2=[16.3,17.3]#overlap RAPID 16.8+/-0.5\n",
    "\n",
    "X1=np.linspace(14,15.8,100) #OSNAP:14.9+/-0.9 Sv\n",
    "X2=np.linspace(16.3,17.3,100) #overlap RAPID 16.8+/-0.5\n",
    "Y1=5\n",
    "Y2=35\n",
    "ax.axvline(x=16.8,color='pink',linestyle=\"--\",linewidth=1.5)\n",
    "ax.fill_between(X2,Y1,Y2,facecolor='pink', alpha=0.2, label='RAPID') # define the range for x-axis, then define the range for y-axis (upper & bottom)\n",
    "ax.axvline(x=14.9,color='lightgreen',linestyle=\"--\",linewidth=1.5)\n",
    "ax.fill_between(X1,Y1,Y2,facecolor='lightgreen', alpha=0.2, label='OSNAP')\n",
    "    \n",
    "x=np.linspace(5,35,100)\n",
    "y=x\n",
    "ax.plot(x,y,'--',linewidth=1, color='r',label='1:1 line')\n",
    "ax.plot(x,0.95*y, '--',linewidth=0.5, color='black')\n",
    "ax.plot(x,1.05*y, '--',linewidth=0.5, color='black')\n",
    "ax.fill_between(x, 0.95*y, 1.05*y, color='grey', alpha=0.15, label='0.95~1.05 shading')\n",
    "ax.set(xlabel='PI AMOC(Sv)',ylabel='MH AMOC(Sv)')\n",
    "ax.set_xlim(5,35)\n",
    "ax.set_ylim(5,35)\n",
    "ax.xaxis.set_major_locator(MultipleLocator(2.5))\n",
    "ax.yaxis.set_major_locator(MultipleLocator(2.5))\n",
    "ax.legend(loc='lower right',ncol=2, edgecolor='None',facecolor='None')\n",
    "ax.set(title='AMOC at 30N & 50N in simulations (MH and PI)')\n",
    "\n",
    "# max AMOC at 50N for fgoalsg3 =34.8 Sv"
   ]
  }
 ],
 "metadata": {
  "kernelspec": {
   "display_name": "Python 3 (ipykernel)",
   "language": "python",
   "name": "python3"
  },
  "language_info": {
   "codemirror_mode": {
    "name": "ipython",
    "version": 3
   },
   "file_extension": ".py",
   "mimetype": "text/x-python",
   "name": "python",
   "nbconvert_exporter": "python",
   "pygments_lexer": "ipython3",
   "version": "3.10.5"
  }
 },
 "nbformat": 4,
 "nbformat_minor": 4
}
